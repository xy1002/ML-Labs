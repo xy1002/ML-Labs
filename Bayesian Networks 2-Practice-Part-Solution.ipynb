{
 "cells": [
  {
   "cell_type": "markdown",
   "metadata": {},
   "source": [
    "\n",
    "# Bayesian Networks Part Two\n",
    "\n",
    "(The main notbook are reused from pgmpy package.)\n",
    "\n",
    "\n",
    "This section will be about obtaining a Bayesian network, given a set of sample data. Learning a Bayesian network can be split into two problems:\n",
    "\n",
    " **Parameter learning:** Given a set of data samples and a DAG that captures the dependencies between the variables, estimate the (conditional) probability distributions of the individual variables.\n",
    " \n",
    " **Structure learning:** Given a set of data samples, estimate a DAG that captures the dependencies between the variables.\n",
    " \n",
    "This notebook aims to illustrate how parameter learning and structure learning can be done with pgmpy.\n",
    "Currently, the library supports:\n",
    " - Parameter learning for *discrete* nodes:\n",
    "   - Maximum Likelihood Estimation\n",
    "   - Bayesian Estimation\n",
    " - Structure learning for *discrete*, *fully observed* networks:\n",
    "   - Score-based structure estimation (BIC/BDeu/K2 score; exhaustive search, hill climb/tabu search)\n",
    "   - Constraint-based structure estimation (PC)\n",
    "\n",
    "\n",
    "## Parameter Learning\n",
    "\n",
    "Suppose we have the following data:"
   ]
  },
  {
   "cell_type": "code",
   "execution_count": 2,
   "metadata": {
    "collapsed": false
   },
   "outputs": [
    {
     "name": "stdout",
     "output_type": "stream",
     "text": [
      "     fruit   size tasty\n",
      "0   banana  large   yes\n",
      "1    apple  large    no\n",
      "2   banana  large   yes\n",
      "3    apple  small   yes\n",
      "4   banana  large   yes\n",
      "5    apple  large   yes\n",
      "6   banana  large   yes\n",
      "7    apple  small   yes\n",
      "8    apple  large   yes\n",
      "9    apple  large   yes\n",
      "10  banana  large   yes\n",
      "11  banana  large    no\n",
      "12   apple  small    no\n",
      "13  banana  small    no\n"
     ]
    }
   ],
   "source": [
    "import pandas as pd\n",
    "data = pd.DataFrame(data={'fruit': [\"banana\", \"apple\", \"banana\", \"apple\", \"banana\",\"apple\", \"banana\", \n",
    "                                    \"apple\", \"apple\", \"apple\", \"banana\", \"banana\", \"apple\", \"banana\",], \n",
    "                          'tasty': [\"yes\", \"no\", \"yes\", \"yes\", \"yes\", \"yes\", \"yes\", \n",
    "                                    \"yes\", \"yes\", \"yes\", \"yes\", \"no\", \"no\", \"no\"], \n",
    "                          'size': [\"large\", \"large\", \"large\", \"small\", \"large\", \"large\", \"large\",\n",
    "                                    \"small\", \"large\", \"large\", \"large\", \"large\", \"small\", \"small\"]})\n",
    "print(data)"
   ]
  },
  {
   "cell_type": "markdown",
   "metadata": {},
   "source": [
    "We know that the variables relate as follows:"
   ]
  },
  {
   "cell_type": "code",
   "execution_count": 3,
   "metadata": {
    "collapsed": false
   },
   "outputs": [],
   "source": [
    "from pgmpy.models import BayesianModel\n",
    "\n",
    "model = BayesianModel([('fruit', 'tasty'), ('size', 'tasty')])  # fruit -> tasty <- size"
   ]
  },
  {
   "cell_type": "markdown",
   "metadata": {},
   "source": [
    "Parameter learning is the task to estimate the values of the conditional probability distributions (CPDs), for the variables `fruit`, `size`, and `tasty`. \n",
    "\n",
    "#### State counts\n",
    "To make sense of the given data, we can start by counting how often each state of the variable occurs. If the variable is dependent on parents, the counts are done conditionally on the parents states, i.e. for seperately for each parent configuration:"
   ]
  },
  {
   "cell_type": "code",
   "execution_count": 4,
   "metadata": {
    "collapsed": false
   },
   "outputs": [
    {
     "name": "stdout",
     "output_type": "stream",
     "text": [
      "('\\n',         fruit\n",
      "apple       7\n",
      "banana      7)\n",
      "('\\n', fruit apple       banana      \n",
      "size  large small  large small\n",
      "tasty                         \n",
      "no      1.0   1.0    1.0   1.0\n",
      "yes     3.0   2.0    5.0   0.0)\n"
     ]
    }
   ],
   "source": [
    "from pgmpy.estimators import ParameterEstimator\n",
    "pe = ParameterEstimator(model, data)\n",
    "print(\"\\n\", pe.state_counts('fruit'))  # unconditional\n",
    "print(\"\\n\", pe.state_counts('tasty'))  # conditional on fruit and size"
   ]
  },
  {
   "cell_type": "markdown",
   "metadata": {},
   "source": [
    "We can see, for example, that as many apples as bananas were observed and that `5` large bananas were tasty, while only `1` was not.\n",
    "\n",
    "#### Maximum Likelihood Estimation\n",
    "\n",
    "A natural estimate for the CPDs is to simply use the *relative frequencies*, with which the variable states have occured. We observed `7 apples` among a total of `14 fruits`, so we might guess that about `50%` of `fruits` are `apples`.\n",
    "\n",
    "This approach is *Maximum Likelihood Estimation (MLE)*. According to MLE, we should fill the CPDs in such a way, that $P(\\text{data}|\\text{model})$ is maximal. This is achieved when using the *relative frequencies*. See [1], section 17.1 for an introduction to ML parameter estimation. pgmpy supports MLE as follows:"
   ]
  },
  {
   "cell_type": "code",
   "execution_count": 5,
   "metadata": {
    "collapsed": false
   },
   "outputs": [
    {
     "name": "stdout",
     "output_type": "stream",
     "text": [
      "+---------------+-----+\n",
      "| fruit(apple)  | 0.5 |\n",
      "+---------------+-----+\n",
      "| fruit(banana) | 0.5 |\n",
      "+---------------+-----+\n",
      "+------------+--------------+----------------+----------------+---------------+\n",
      "| fruit      | fruit(apple) | fruit(apple)   | fruit(banana)  | fruit(banana) |\n",
      "+------------+--------------+----------------+----------------+---------------+\n",
      "| size       | size(large)  | size(small)    | size(large)    | size(small)   |\n",
      "+------------+--------------+----------------+----------------+---------------+\n",
      "| tasty(no)  | 0.25         | 0.333333333333 | 0.166666666667 | 1.0           |\n",
      "+------------+--------------+----------------+----------------+---------------+\n",
      "| tasty(yes) | 0.75         | 0.666666666667 | 0.833333333333 | 0.0           |\n",
      "+------------+--------------+----------------+----------------+---------------+\n"
     ]
    }
   ],
   "source": [
    "from pgmpy.estimators import MaximumLikelihoodEstimator\n",
    "mle = MaximumLikelihoodEstimator(model, data)\n",
    "print(mle.estimate_cpd('fruit'))  # unconditional\n",
    "print(mle.estimate_cpd('tasty'))  # conditional"
   ]
  },
  {
   "cell_type": "markdown",
   "metadata": {},
   "source": [
    "`mle.estimate_cpd(variable)` computes the state counts and divides each cell by the (conditional) sample size. The `mle.get_parameters()`-method returns a list of CPDs for all variable of the model.\n",
    "\n",
    "The built-in `fit()`-method of `BayesianModel` provides more convenient access to parameter estimators:\n"
   ]
  },
  {
   "cell_type": "code",
   "execution_count": 6,
   "metadata": {
    "collapsed": false
   },
   "outputs": [
    {
     "name": "stdout",
     "output_type": "stream",
     "text": [
      "+---------------+-----+\n",
      "| fruit(apple)  | 0.5 |\n",
      "+---------------+-----+\n",
      "| fruit(banana) | 0.5 |\n",
      "+---------------+-----+\n",
      "+------------+--------------+----------------+----------------+---------------+\n",
      "| fruit      | fruit(apple) | fruit(apple)   | fruit(banana)  | fruit(banana) |\n",
      "+------------+--------------+----------------+----------------+---------------+\n",
      "| size       | size(large)  | size(small)    | size(large)    | size(small)   |\n",
      "+------------+--------------+----------------+----------------+---------------+\n",
      "| tasty(no)  | 0.25         | 0.333333333333 | 0.166666666667 | 1.0           |\n",
      "+------------+--------------+----------------+----------------+---------------+\n",
      "| tasty(yes) | 0.75         | 0.666666666667 | 0.833333333333 | 0.0           |\n",
      "+------------+--------------+----------------+----------------+---------------+\n"
     ]
    }
   ],
   "source": [
    "# Calibrate all CPDs of `model` using MLE:\n",
    "from pgmpy.estimators import MaximumLikelihoodEstimator\n",
    "mle = MaximumLikelihoodEstimator(model, data)\n",
    "print(mle.estimate_cpd('fruit'))  # unconditional\n",
    "print(mle.estimate_cpd('tasty'))  # conditional"
   ]
  },
  {
   "cell_type": "markdown",
   "metadata": {},
   "source": [
    "\n",
    "While very straightforward, the ML estimator has the problem of *overfitting* to the data. In above CPD, the probability of a large banana being tasty is estimated at `0.833`, because `5` out of `6` observed large bananas were tasty. Fine. But note that the probability of a small banana being tasty is estimated at `0.0`, because we  observed only one small banana and it happened to be not tasty. But that should hardly make us certain that small bananas aren't tasty!\n",
    "We simply do not have enough observations to rely on the observed frequencies. If the observed data is not representative for the underlying distribution, ML estimations will be extremly far off. \n",
    "\n",
    "When estimating parameters for Bayesian networks, lack of data is a frequent problem. Even if the total sample size is very large, the fact that state counts are done conditionally for each parents configuration causes immense fragmentation. If a variable has 3 parents that can each take 10 states, then state counts will be done seperately for `10^3 = 1000` parents configurations. This makes MLE very fragile and unstable for learning Bayesian Network parameters. A way to mitigate MLE's overfitting is *Bayesian Parameter Estimation*.\n",
    "\n",
    "#### Bayesian Parameter Estimation\n",
    "\n",
    "The Bayesian Parameter Estimator starts with already existing prior CPDs, that express our beliefs about the variables *before* the data was observed. Those \"priors\" are then updated, using the state counts from the observed data. See [1], Section 17.3 for a general introduction to Bayesian estimators.\n",
    "\n",
    "One can think of the priors as consisting in *pseudo state counts*, that are added to the actual counts before normalization.\n",
    "Unless one wants to encode specific beliefs about the distributions of the variables, one commonly chooses uniform priors, i.e. ones that deem all states equiprobable.\n",
    "\n",
    "A very simple prior is the so-called *K2* prior, which simply adds `1` to the count of every single state.\n",
    "A somewhat more sensible choice of prior is *BDeu* (Bayesian Dirichlet equivalent uniform prior). For BDeu we need to specify an *equivalent sample size* `N` and then the pseudo-counts are the equivalent of having observed `N` uniform samples of each variable (and each parent configuration). In pgmpy:\n",
    "\n",
    "\n"
   ]
  },
  {
   "cell_type": "code",
   "execution_count": 7,
   "metadata": {
    "collapsed": false,
    "scrolled": true
   },
   "outputs": [
    {
     "name": "stdout",
     "output_type": "stream",
     "text": [
      "+------------+----------------+----------------+----------------+----------------+\n",
      "| fruit      | fruit(apple)   | fruit(apple)   | fruit(banana)  | fruit(banana)  |\n",
      "+------------+----------------+----------------+----------------+----------------+\n",
      "| size       | size(large)    | size(small)    | size(large)    | size(small)    |\n",
      "+------------+----------------+----------------+----------------+----------------+\n",
      "| tasty(no)  | 0.346153846154 | 0.409090909091 | 0.264705882353 | 0.642857142857 |\n",
      "+------------+----------------+----------------+----------------+----------------+\n",
      "| tasty(yes) | 0.653846153846 | 0.590909090909 | 0.735294117647 | 0.357142857143 |\n",
      "+------------+----------------+----------------+----------------+----------------+\n"
     ]
    }
   ],
   "source": [
    "from pgmpy.estimators import BayesianEstimator\n",
    "est = BayesianEstimator(model, data)\n",
    "\n",
    "print(est.estimate_cpd('tasty', prior_type='BDeu', equivalent_sample_size=10))"
   ]
  },
  {
   "cell_type": "markdown",
   "metadata": {},
   "source": [
    "The estimated values in the CPDs are now more conservative. In particular, the estimate for a small banana being not tasty is now around `0.64` rather than `1.0`. Setting `equivalent_sample_size` to `10` means that for each parent configuration, we add the equivalent of 10 uniform samples (here: `+5` small bananas that are tasty and `+5` that aren't).\n",
    "\n",
    "`BayesianEstimator`, too, can be used via the `fit()`-method. Full example:"
   ]
  },
  {
   "cell_type": "markdown",
   "metadata": {},
   "source": [
    "##### Parameters\n",
    "----------\n",
    "prior_type: 'dirichlet', 'BDeu', or 'K2'\n",
    "\n",
    "string indicting which type of prior to use for the model parameters.\n",
    "            \n",
    "- If 'prior_type' is 'dirichlet', the following must be provided:\n",
    "\n",
    "'pseudo_counts' = dirichlet hyperparameters; a dict containing, for each variable, a list with a \"virtual\" count for each variable state, that is added to the state counts.(lexicographic ordering of states assumed)\n",
    "            \n",
    "- If 'prior_type' is 'BDeu', then an 'equivalent_sample_size' must be specified instead of 'pseudo_counts'. This is equivalent to 'prior_type=dirichlet' and using uniform 'pseudo_counts' of `equivalent_sample_size/(node_cardinality*np.pro(parents_cardinalities))` for each node.\n",
    "'equivalent_sample_size' can either be a numerical value or a dict that specifies the size for each variable seperately.\n",
    "\n",
    "- A prior_type of 'K2' is a shorthand for 'dirichlet' + setting every pseudo_count to 1,regardless of the cardinality of the variable.\n",
    "\n",
    "##### Returns\n",
    "-------\n",
    "parameters: list\n",
    "\n",
    "List of TabularCPDs, one for each variable of the model\n"
   ]
  },
  {
   "cell_type": "code",
   "execution_count": 8,
   "metadata": {
    "collapsed": false
   },
   "outputs": [
    {
     "name": "stdout",
     "output_type": "stream",
     "text": [
      "CPD of A:\n",
      "+------+----------+\n",
      "| A(0) | 0.497451 |\n",
      "+------+----------+\n",
      "| A(1) | 0.502549 |\n",
      "+------+----------+\n",
      "CPD of C:\n",
      "+------+--------------+----------------+----------------+----------------+\n",
      "| A    | A(0)         | A(0)           | A(1)           | A(1)           |\n",
      "+------+--------------+----------------+----------------+----------------+\n",
      "| D    | D(0)         | D(1)           | D(0)           | D(1)           |\n",
      "+------+--------------+----------------+----------------+----------------+\n",
      "| C(0) | 0.4969348659 | 0.512581168831 | 0.486263736264 | 0.489138867339 |\n",
      "+------+--------------+----------------+----------------+----------------+\n",
      "| C(1) | 0.5030651341 | 0.487418831169 | 0.513736263736 | 0.510861132661 |\n",
      "+------+--------------+----------------+----------------+----------------+\n",
      "CPD of B:\n",
      "+------+----------------+----------------+\n",
      "| A    | A(0)           | A(1)           |\n",
      "+------+----------------+----------------+\n",
      "| B(0) | 0.506897910918 | 0.514241123683 |\n",
      "+------+----------------+----------------+\n",
      "| B(1) | 0.493102089082 | 0.485758876317 |\n",
      "+------+----------------+----------------+\n",
      "CPD of D:\n",
      "+------+----------------+----------------+\n",
      "| B    | B(0)           | B(1)           |\n",
      "+------+----------------+----------------+\n",
      "| D(0) | 0.517665130568 | 0.493189102564 |\n",
      "+------+----------------+----------------+\n",
      "| D(1) | 0.482334869432 | 0.506810897436 |\n",
      "+------+----------------+----------------+\n"
     ]
    }
   ],
   "source": [
    "import numpy as np\n",
    "import pandas as pd\n",
    "from pgmpy.models import BayesianModel\n",
    "from pgmpy.estimators import BayesianEstimator\n",
    "\n",
    "# generate data\n",
    "data = pd.DataFrame(np.random.randint(low=0, high=2, size=(5000, 4)), columns=['A', 'B', 'C', 'D'])\n",
    "model = BayesianModel([('A', 'B'), ('A', 'C'), ('D', 'C'), ('B', 'D')])\n",
    "\n",
    "model.fit(data, estimator=BayesianEstimator, prior_type='BDeu', equivalent_sample_size=100)\n",
    "for cpd in model.get_cpds():\n",
    "    print(\"CPD of {variable}:\".format(variable=cpd.variable))\n",
    "    print(cpd)\n"
   ]
  },
  {
   "cell_type": "code",
   "execution_count": 9,
   "metadata": {
    "collapsed": false
   },
   "outputs": [
    {
     "name": "stdout",
     "output_type": "stream",
     "text": [
      "CPD of A:\n",
      "+------+--------+\n",
      "| A(0) | 0.3658 |\n",
      "+------+--------+\n",
      "| A(1) | 0.6342 |\n",
      "+------+--------+\n",
      "CPD of C:\n",
      "+------+----------------+---------------+----------------+----------------+\n",
      "| A    | A(0)           | A(0)          | A(1)           | A(1)           |\n",
      "+------+----------------+---------------+----------------+----------------+\n",
      "| D    | D(0)           | D(1)          | D(0)           | D(1)           |\n",
      "+------+----------------+---------------+----------------+----------------+\n",
      "| C(0) | 0.629824561404 | 0.64295423652 | 0.625611382837 | 0.626325088339 |\n",
      "+------+----------------+---------------+----------------+----------------+\n",
      "| C(1) | 0.370175438596 | 0.35704576348 | 0.374388617163 | 0.373674911661 |\n",
      "+------+----------------+---------------+----------------+----------------+\n",
      "CPD of B:\n",
      "+------+----------------+---------------+\n",
      "| A    | A(0)           | A(1)          |\n",
      "+------+----------------+---------------+\n",
      "| B(0) | 0.562374533983 | 0.56732137774 |\n",
      "+------+----------------+---------------+\n",
      "| B(1) | 0.437625466017 | 0.43267862226 |\n",
      "+------+----------------+---------------+\n",
      "CPD of D:\n",
      "+------+----------------+----------------+\n",
      "| B    | B(0)           | B(1)           |\n",
      "+------+----------------+----------------+\n",
      "| D(0) | 0.512943162634 | 0.495066744051 |\n",
      "+------+----------------+----------------+\n",
      "| D(1) | 0.487056837366 | 0.504933255949 |\n",
      "+------+----------------+----------------+\n"
     ]
    }
   ],
   "source": [
    "pseudo_counts = {'A': [3000, 7000], 'B': [700, 300], 'C': [800, 200], 'D': [500, 500]}\n",
    "model.fit(data, estimator=BayesianEstimator, prior_type='dirichlet', pseudo_counts=pseudo_counts)\n",
    "for cpd in model.get_cpds():\n",
    "    print(\"CPD of {variable}:\".format(variable=cpd.variable))\n",
    "    print(cpd)"
   ]
  },
  {
   "cell_type": "markdown",
   "metadata": {},
   "source": [
    "### Practice One:"
   ]
  },
  {
   "cell_type": "code",
   "execution_count": 10,
   "metadata": {
    "collapsed": false
   },
   "outputs": [
    {
     "name": "stdout",
     "output_type": "stream",
     "text": [
      "   D  I  G\n",
      "0  1  0  1\n",
      "1  2  1  1\n",
      "2  0  0  0\n",
      "3  1  0  1\n",
      "4  0  0  0\n"
     ]
    }
   ],
   "source": [
    "np.random.seed(100)\n",
    "raw_data = np.random.randint(low=0, high=2, size=(1000, 3))\n",
    "data = pd.DataFrame(raw_data, columns=['D', 'I', 'G'])\n",
    "data.D=data.I+data.G\n",
    "np.random.seed(1000)\n",
    "raw_data = np.random.randint(low=0, high=2, size=(20, 3))\n",
    "data_test = pd.DataFrame(raw_data, columns=['D', 'I', 'G'])\n",
    "data_test.I=1\n",
    "data_test.D=data_test.I+data_test.G\n",
    "print(data.head())\n",
    "model = BayesianModel([(\"I\",\"D\"),(\"G\",\"D\")])"
   ]
  },
  {
   "cell_type": "code",
   "execution_count": 11,
   "metadata": {
    "collapsed": false
   },
   "outputs": [],
   "source": [
    "?model.predict"
   ]
  },
  {
   "cell_type": "markdown",
   "metadata": {},
   "source": [
    "### Q1. Please fit the data using BayesianEstimator. What are your CPDs. (use BDeu: 100 for example)? \n",
    "\n",
    "### Q2. \n",
    "\n",
    "a) Predict \"G\" using \"I\" by your model. What is the OS accuracy of prediction? What if use \"I\" and \"D\"?\n",
    "\n",
    "b) Predict \"D\" using \"G\" by your model. What is the OS accuracy of prediction? What if use \"I\" and \"G\"?\n",
    "\n",
    "c) What if you have the following sampling observations as prior?\n",
    "\n",
    "pseudo_counts = {'D': [2000,1000,2000], 'I': [300, 700], 'G': [100, 100]}\n"
   ]
  },
  {
   "cell_type": "code",
   "execution_count": 12,
   "metadata": {
    "collapsed": false
   },
   "outputs": [
    {
     "name": "stdout",
     "output_type": "stream",
     "text": [
      "CPD of I:\n",
      "+------+---------+\n",
      "| I(0) | 0.50099 |\n",
      "+------+---------+\n",
      "| I(1) | 0.49901 |\n",
      "+------+---------+\n",
      "CPD of D:\n",
      "+------+------------------+------------------+------------------+------------------+\n",
      "| G    | G(0)             | G(0)             | G(1)             | G(1)             |\n",
      "+------+------------------+------------------+------------------+------------------+\n",
      "| I    | I(0)             | I(1)             | I(0)             | I(1)             |\n",
      "+------+------------------+------------------+------------------+------------------+\n",
      "| D(0) | 0.993698802773   | 0.00309214594929 | 0.00345065562457 | 0.00355366027008 |\n",
      "+------+------------------+------------------+------------------+------------------+\n",
      "| D(1) | 0.00315059861374 | 0.993815708101   | 0.993098688751   | 0.00355366027008 |\n",
      "+------+------------------+------------------+------------------+------------------+\n",
      "| D(2) | 0.00315059861374 | 0.00309214594929 | 0.00345065562457 | 0.99289267946    |\n",
      "+------+------------------+------------------+------------------+------------------+\n",
      "CPD of G:\n",
      "+------+----------+\n",
      "| G(0) | 0.528713 |\n",
      "+------+----------+\n",
      "| G(1) | 0.471287 |\n",
      "+------+----------+\n"
     ]
    }
   ],
   "source": [
    "model.fit(data, estimator=BayesianEstimator, prior_type='BDeu', equivalent_sample_size=10)\n",
    "for cpd in model.get_cpds():\n",
    "    print(\"CPD of {variable}:\".format(variable=cpd.variable))\n",
    "    print(cpd)"
   ]
  },
  {
   "cell_type": "code",
   "execution_count": 13,
   "metadata": {
    "collapsed": false
   },
   "outputs": [
    {
     "name": "stdout",
     "output_type": "stream",
     "text": [
      "0.7\n",
      "1.0\n",
      "0.0\n",
      "1.0\n"
     ]
    }
   ],
   "source": [
    "print (model.predict(data_test.loc[:,[\"I\"]]).G==data_test.G).sum()*1.0/20\n",
    "print (model.predict(data_test.loc[:,[\"D\",\"I\"]]).G==data_test.G).sum()*1.0/20\n",
    "\n",
    "print (model.predict(data_test.loc[:,[\"G\"]]).D==data_test.D).sum()*1.0/20\n",
    "print (model.predict(data_test.loc[:,[\"I\",\"G\"]]).D==data_test.D).sum()*1.0/20"
   ]
  },
  {
   "cell_type": "code",
   "execution_count": 14,
   "metadata": {
    "collapsed": false
   },
   "outputs": [
    {
     "name": "stdout",
     "output_type": "stream",
     "text": [
      "CPD of I:\n",
      "+------+--------+\n",
      "| I(0) | 0.4005 |\n",
      "+------+--------+\n",
      "| I(1) | 0.5995 |\n",
      "+------+--------+\n",
      "CPD of D:\n",
      "+------+----------------+----------------+----------------+----------------+\n",
      "| G    | G(0)           | G(0)           | G(1)           | G(1)           |\n",
      "+------+----------------+----------------+----------------+----------------+\n",
      "| I    | I(0)           | I(1)           | I(0)           | I(1)           |\n",
      "+------+----------------+----------------+----------------+----------------+\n",
      "| D(0) | 0.429874572406 | 0.379722802354 | 0.381752242794 | 0.382262996942 |\n",
      "+------+----------------+----------------+----------------+----------------+\n",
      "| D(1) | 0.190041809198 | 0.240554395291 | 0.236495514411 | 0.191131498471 |\n",
      "+------+----------------+----------------+----------------+----------------+\n",
      "| D(2) | 0.380083618396 | 0.379722802354 | 0.381752242794 | 0.426605504587 |\n",
      "+------+----------------+----------------+----------------+----------------+\n",
      "CPD of G:\n",
      "+------+----------+\n",
      "| G(0) | 0.524167 |\n",
      "+------+----------+\n",
      "| G(1) | 0.475833 |\n",
      "+------+----------+\n",
      "0.3\n"
     ]
    }
   ],
   "source": [
    "model = BayesianModel([(\"I\",\"D\"),(\"G\",\"D\")])\n",
    "pseudo_counts = {'D': [2000,1000,2000], 'I': [300, 700], 'G': [100, 100]}\n",
    "model.fit(data, estimator=BayesianEstimator, prior_type='dirichlet', pseudo_counts=pseudo_counts)\n",
    "for cpd in model.get_cpds():\n",
    "    print(\"CPD of {variable}:\".format(variable=cpd.variable))\n",
    "    print(cpd)\n",
    "\n",
    "print (model.predict(data_test.loc[:,[\"I\",\"G\"]]).D==data_test.D).sum()*1.0/20\n"
   ]
  },
  {
   "cell_type": "markdown",
   "metadata": {},
   "source": [
    "## Structure Learning\n",
    "\n",
    "To learn model structure (a DAG) from a data set, there are two broad techniques:\n",
    "\n",
    " - score-based structure learning\n",
    " - constraint-based structure learning\n",
    "\n",
    "We briefly discuss all approaches and give examples.\n",
    "\n",
    "### Score-based Structure Learning\n",
    "\n",
    "\n",
    "This approach construes model selection as an optimization task. It has two building blocks:\n",
    "\n",
    "- A _scoring function_ $s_D\\colon M \\to \\mathbb R$ that maps models to a numerical score, based on how well they fit to a given data set $D$.\n",
    "- A _search strategy_ to traverse the search space of possible models $M$ and select a model with optimal score.\n",
    "\n",
    "\n",
    "#### Scoring functions\n",
    "\n",
    "Commonly used scores to measure the fit between model and data are _Bayesian Dirichlet scores_ such as *BDeu* or *K2* and the _Bayesian Information Criterion_ (BIC, also called MDL). See [1], Section 18.3 for a detailed introduction on scores. As before, BDeu is dependent on an equivalent sample size."
   ]
  },
  {
   "cell_type": "code",
   "execution_count": 15,
   "metadata": {
    "collapsed": false
   },
   "outputs": [
    {
     "name": "stdout",
     "output_type": "stream",
     "text": [
      "-13934.6238246\n",
      "-14325.3581389\n",
      "-14290.6641388\n",
      "-20895.3771637\n",
      "-20922.22821\n",
      "-20939.4281753\n"
     ]
    }
   ],
   "source": [
    "import pandas as pd\n",
    "import numpy as np\n",
    "from pgmpy.estimators import BdeuScore, K2Score, BicScore\n",
    "from pgmpy.models import BayesianModel\n",
    "\n",
    "# create random data sample with 3 variables, where Z is dependent on X, Y:\n",
    "data = pd.DataFrame(np.random.randint(0, 4, size=(5000, 2)), columns=list('XY'))\n",
    "data['Z'] = data['X'] + data['Y']\n",
    "\n",
    "bdeu = BdeuScore(data, equivalent_sample_size=5)\n",
    "k2 = K2Score(data)\n",
    "bic = BicScore(data)\n",
    "\n",
    "model1 = BayesianModel([('X', 'Z'), ('Y', 'Z')])  # X -> Z <- Y\n",
    "model2 = BayesianModel([('X', 'Z'), ('X', 'Y')])  # Y <- X -> Z\n",
    "\n",
    "\n",
    "print(bdeu.score(model1))\n",
    "print(k2.score(model1))\n",
    "print(bic.score(model1))\n",
    "\n",
    "print(bdeu.score(model2))\n",
    "print(k2.score(model2))\n",
    "print(bic.score(model2))\n"
   ]
  },
  {
   "cell_type": "markdown",
   "metadata": {},
   "source": [
    "While the scores vary slightly, we can see that the correct `model1` has a much higher score than `model2`.\n",
    "Importantly, these scores _decompose_, i.e. they can be computed locally for each of the variables given their potential parents, independent of other parts of the network:"
   ]
  },
  {
   "cell_type": "code",
   "execution_count": 16,
   "metadata": {
    "collapsed": false
   },
   "outputs": [
    {
     "name": "stdout",
     "output_type": "stream",
     "text": [
      "-9246.48803524\n",
      "-6988.45541056\n",
      "-57.1166468066\n"
     ]
    }
   ],
   "source": [
    "print(bdeu.local_score('Z', parents=[]))\n",
    "print(bdeu.local_score('Z', parents=['X']))\n",
    "print(bdeu.local_score('Z', parents=['X', 'Y']))"
   ]
  },
  {
   "cell_type": "markdown",
   "metadata": {},
   "source": [
    "#### Search strategies\n",
    "The search space of DAGs is super-exponential in the number of variables and the above scoring functions allow for local maxima. The first property makes exhaustive search intractable for all but very small networks, the second prohibits efficient local optimization algorithms to always find the optimal structure. Thus, identifiying the ideal structure is often not tractable. Despite these bad news, heuristic search strategies often yields good results.\n",
    "\n",
    "If only few nodes are involved (read: less than 5), `ExhaustiveSearch` can be used to compute the score for every DAG and returns the best-scoring one:"
   ]
  },
  {
   "cell_type": "code",
   "execution_count": 17,
   "metadata": {
    "collapsed": false
   },
   "outputs": [
    {
     "name": "stdout",
     "output_type": "stream",
     "text": [
      "[('Y', 'Z'), ('X', 'Z')]\n",
      "\n",
      "All DAGs by score:\n",
      "(-14290.664138819098, [('Y', 'Z'), ('X', 'Z')])\n",
      "(-14324.183352328386, [('Y', 'X'), ('Z', 'Y'), ('Z', 'X')])\n",
      "(-14324.183352328388, [('Y', 'X'), ('Y', 'Z'), ('Z', 'X')])\n",
      "(-14324.183352328388, [('Y', 'X'), ('Y', 'Z'), ('X', 'Z')])\n",
      "(-14324.183352328388, [('X', 'Y'), ('Z', 'Y'), ('Z', 'X')])\n",
      "(-14324.183352328389, [('X', 'Y'), ('X', 'Z'), ('Z', 'Y')])\n",
      "(-14324.183352328389, [('Y', 'Z'), ('X', 'Y'), ('X', 'Z')])\n",
      "(-16547.554933759962, [('Y', 'X'), ('Z', 'X')])\n",
      "(-16550.498352353869, [('X', 'Y'), ('Z', 'Y')])\n",
      "(-18682.537380375936, [('Z', 'Y'), ('Z', 'X')])\n",
      "(-18682.537380375936, [('Y', 'Z'), ('Z', 'X')])\n",
      "(-18682.537380375936, [('X', 'Z'), ('Z', 'Y')])\n",
      "(-20905.908961807512, [('Z', 'X')])\n",
      "(-20905.908961807512, [('X', 'Z')])\n",
      "(-20908.852380401415, [('Z', 'Y')])\n",
      "(-20908.852380401415, [('Y', 'Z')])\n",
      "(-20939.428175316803, [('Y', 'X'), ('X', 'Z')])\n",
      "(-20939.428175316803, [('X', 'Y'), ('Z', 'X')])\n",
      "(-20939.428175316803, [('X', 'Y'), ('X', 'Z')])\n",
      "(-20942.371593910706, [('Y', 'X'), ('Z', 'Y')])\n",
      "(-20942.371593910706, [('Y', 'X'), ('Y', 'Z')])\n",
      "(-20942.371593910706, [('Y', 'Z'), ('X', 'Y')])\n",
      "(-23132.223961832991, [])\n",
      "(-23165.743175342279, [('Y', 'X')])\n",
      "(-23165.743175342282, [('X', 'Y')])\n"
     ]
    }
   ],
   "source": [
    "from pgmpy.estimators import ExhaustiveSearch\n",
    "\n",
    "es = ExhaustiveSearch(data, scoring_method=bic)\n",
    "best_model = es.estimate()\n",
    "print(best_model.edges())\n",
    "\n",
    "print(\"\\nAll DAGs by score:\")\n",
    "for score, dag in reversed(es.all_scores()):\n",
    "    print(score, dag.edges())"
   ]
  },
  {
   "cell_type": "markdown",
   "metadata": {},
   "source": [
    "Once more nodes are involved, one needs to switch to heuristic search. `HillClimbSearch` implements a greedy local search that starts from the DAG `start` (default: disconnected DAG) and proceeds by iteratively performing single-edge manipulations that maximally increase the score. The search terminates once a local maximum is found.\n",
    "\n",
    "\n"
   ]
  },
  {
   "cell_type": "code",
   "execution_count": 18,
   "metadata": {
    "collapsed": false
   },
   "outputs": [
    {
     "name": "stdout",
     "output_type": "stream",
     "text": [
      "[('A', 'C'), ('A', 'B'), ('C', 'B'), ('G', 'A'), ('H', 'A'), ('H', 'G')]\n"
     ]
    }
   ],
   "source": [
    "from pgmpy.estimators import HillClimbSearch\n",
    "\n",
    "# create some data with dependencies\n",
    "data = pd.DataFrame(np.random.randint(0, 3, size=(2500, 8)), columns=list('ABCDEFGH'))\n",
    "data['A'] += data['B'] + data['C']\n",
    "data['H'] = data['G'] - data['A']\n",
    "\n",
    "hc = HillClimbSearch(data, scoring_method=BicScore(data))\n",
    "best_model = hc.estimate()\n",
    "print(best_model.edges())"
   ]
  },
  {
   "cell_type": "markdown",
   "metadata": {},
   "source": [
    "The search correctly identifies e.g. that `B` and `C` do not influnce `H` directly, only through `A` and of course that `D`, `E`, `F` are independent.\n",
    "\n",
    "\n",
    "To enforce a wider exploration of the search space, the search can be enhanced with a tabu list. The list keeps track of the last `n` modfications; those are then not allowed to be reversed, regardless of the score. Additionally a `white_list` or `black_list` can be supplied to restrict the search to a particular subset or to exclude certain edges. The parameter `max_indegree` allows to restrict the maximum number of parents for each node.\n",
    "\n",
    "\n",
    "### Constraint-based Structure Learning\n",
    "\n",
    "A different, but quite straightforward approach to build a DAG from data is this:\n",
    "\n",
    "1. Identify independencies in the data set using hypothesis tests \n",
    "2. Construct DAG (pattern) according to identified independencies\n",
    "\n",
    "#### (Conditional) Independence Tests\n",
    "\n",
    "Independencies in the data can be identified using chi2 conditional independence tests. To this end, constraint-based estimators in pgmpy have a `test_conditional_independence(X, Y, Zs)`-method, that performs a hypothesis test on the data sample. It allows to check if `X` is independent from `Y` given a set of variables `Zs`:"
   ]
  },
  {
   "cell_type": "code",
   "execution_count": 19,
   "metadata": {
    "collapsed": false
   },
   "outputs": [
    {
     "name": "stdout",
     "output_type": "stream",
     "text": [
      "(1.7458642800596729, 0.98783644838898632, True)\n",
      "(669.65055482303819, 1.6615465800288878e-124, True)\n",
      "(2.0506421131182382, 0.99830988455518577, True)\n",
      "(9.038666747654533, 0.99999999689457031, True)\n",
      "(10.54523288135092, 0.95717478959691427, True)\n",
      "(4628.0, 0.0, True)\n"
     ]
    }
   ],
   "source": [
    "from pgmpy.estimators import ConstraintBasedEstimator\n",
    "\n",
    "data = pd.DataFrame(np.random.randint(0, 3, size=(2500, 8)), columns=list('ABCDEFGH'))\n",
    "data['A'] += data['B'] + data['C']\n",
    "data['H'] = data['G'] - data['A']\n",
    "data['E'] *= data['F']\n",
    "\n",
    "est = ConstraintBasedEstimator(data)\n",
    "\n",
    "print(est.test_conditional_independence('B', 'C'))          # independent\n",
    "print(est.test_conditional_independence('B', 'H'))          # dependent\n",
    "print(est.test_conditional_independence('B', 'E'))          # independent\n",
    "print(est.test_conditional_independence('B', 'H', ['A']))   # independent\n",
    "print(est.test_conditional_independence('A', 'G'))          # independent\n",
    "print(est.test_conditional_independence('A', 'G',  ['H']))  # dependent"
   ]
  },
  {
   "cell_type": "markdown",
   "metadata": {},
   "source": [
    "`test_conditional_independence()` returns a tripel `(chi2, p_value, sufficient_data)`, consisting in the computed chi2 test statistic, the `p_value` of the test, and a heuristig flag that indicates if the sample size was sufficient. The `p_value` is the probability of observing the computed chi2 statistic (or an even higher chi2 value), given the null hypothesis that X and Y are independent given Zs.\n",
    "\n",
    "This can be used to make independence judgements, at a given level of significance:"
   ]
  },
  {
   "cell_type": "code",
   "execution_count": 20,
   "metadata": {
    "collapsed": false
   },
   "outputs": [
    {
     "name": "stdout",
     "output_type": "stream",
     "text": [
      "True\n",
      "False\n",
      "True\n",
      "True\n",
      "True\n",
      "False\n"
     ]
    }
   ],
   "source": [
    "def is_independent(X, Y, Zs=[], significance_level=0.05):\n",
    "    return est.test_conditional_independence(X, Y, Zs)[1] >= significance_level\n",
    "print(is_independent('B', 'C'))\n",
    "print(is_independent('B', 'H'))\n",
    "print(is_independent('B', 'E'))\n",
    "print(is_independent('B', 'H', ['A']))\n",
    "print(is_independent('A', 'G'))\n",
    "print(is_independent('A', 'G', ['H']))"
   ]
  },
  {
   "cell_type": "code",
   "execution_count": null,
   "metadata": {
    "collapsed": false
   },
   "outputs": [],
   "source": []
  },
  {
   "cell_type": "markdown",
   "metadata": {},
   "source": [
    "#### DAG (pattern) construction\n",
    "\n",
    "#### PC Algorithm for causal direction\n",
    "\n",
    "With a method for independence testing at hand, we can construct a DAG from the data set in three steps:\n",
    "1. Construct an undirected skeleton - `estimate_skeleton()`\n",
    "2. Orient compelled edges to obtain partially directed acyclid graph (PDAG; I-equivalence class of DAGs) - `skeleton_to_pdag()`\n",
    "\n",
    "\n",
    "####  The following step orients any remaining edges, essentially at random, but in a way which is consistent with the edge directions produced by PC.  This is useful if we want to use the learned structure to perform inference, but we should not make any assumptions re. causality from the edges directed in the last step.\n",
    "\n",
    "3. Extend DAG pattern to a DAG by conservatively orienting the remaining edges in some way - `pdag_to_dag()`\n",
    "\n",
    "Step 1.&2. form the so-called PC algorithm, see [2], page 550. PDAGs are `DirectedGraph`s, that may contain both-way edges, to indicate that the orientation for the edge is not determined.\n",
    "\n",
    "\n"
   ]
  },
  {
   "cell_type": "code",
   "execution_count": 21,
   "metadata": {
    "collapsed": false
   },
   "outputs": [
    {
     "name": "stdout",
     "output_type": "stream",
     "text": [
      "('Undirected edges: ', [('A', 'C'), ('A', 'B'), ('A', 'H'), ('E', 'F'), ('G', 'H')])\n",
      "('PDAG edges:       ', [('A', 'H'), ('C', 'A'), ('B', 'A'), ('E', 'F'), ('G', 'H'), ('F', 'E')])\n",
      "('DAG edges:        ', [('A', 'H'), ('C', 'A'), ('B', 'A'), ('G', 'H'), ('F', 'E')])\n"
     ]
    }
   ],
   "source": [
    "skel, seperating_sets = est.estimate_skeleton(significance_level=0.01)\n",
    "print(\"Undirected edges: \", skel.edges())\n",
    "\n",
    "pdag = est.skeleton_to_pdag(skel, seperating_sets)\n",
    "print(\"PDAG edges:       \", pdag.edges())\n",
    "\n",
    "model = est.pdag_to_dag(pdag)\n",
    "print(\"DAG edges:        \", model.edges())"
   ]
  },
  {
   "cell_type": "markdown",
   "metadata": {},
   "source": [
    "#### The `estimate()`-method provides a shorthand for the three steps above and directly returns a `BayesianModel`. run these three steps separately rather than using the shortcut (estimate() function)\n",
    "\n"
   ]
  },
  {
   "cell_type": "code",
   "execution_count": 22,
   "metadata": {
    "collapsed": false
   },
   "outputs": [
    {
     "name": "stdout",
     "output_type": "stream",
     "text": [
      "[('A', 'H'), ('C', 'A'), ('B', 'A'), ('G', 'H'), ('F', 'E')]\n"
     ]
    }
   ],
   "source": [
    "print(est.estimate(significance_level=0.01).edges())"
   ]
  },
  {
   "cell_type": "markdown",
   "metadata": {},
   "source": [
    "PC PDAG construction is only guaranteed to work under the assumption that the identified set of independencies is *faithful*, i.e. there exists a DAG that exactly corresponds to it. Spurious dependencies in the data set can cause the reported independencies to violate faithfulness. It can happen that the estimated PDAG does not have any faithful completions (i.e. edge orientations that do not introduce new v-structures). In that case a warning is issued."
   ]
  },
  {
   "cell_type": "code",
   "execution_count": null,
   "metadata": {
    "collapsed": true
   },
   "outputs": [],
   "source": []
  },
  {
   "cell_type": "markdown",
   "metadata": {},
   "source": [
    "### Practice Two."
   ]
  },
  {
   "cell_type": "code",
   "execution_count": 23,
   "metadata": {
    "collapsed": false
   },
   "outputs": [
    {
     "name": "stderr",
     "output_type": "stream",
     "text": [
      "C:\\Users\\lingjing\\Anaconda2\\lib\\site-packages\\sklearn\\cross_validation.py:44: DeprecationWarning: This module was deprecated in version 0.18 in favor of the model_selection module into which all the refactored classes and functions are moved. Also note that the interface of the new CV iterators are different from that of this module. This module will be removed in 0.20.\n",
      "  \"This module will be removed in 0.20.\", DeprecationWarning)\n"
     ]
    },
    {
     "data": {
      "text/html": [
       "<div>\n",
       "<table border=\"1\" class=\"dataframe\">\n",
       "  <thead>\n",
       "    <tr style=\"text-align: right;\">\n",
       "      <th></th>\n",
       "      <th>manhattan</th>\n",
       "      <th>tip</th>\n",
       "      <th>dist</th>\n",
       "      <th>speed</th>\n",
       "      <th>pass</th>\n",
       "    </tr>\n",
       "  </thead>\n",
       "  <tbody>\n",
       "    <tr>\n",
       "      <th>1549869</th>\n",
       "      <td>0</td>\n",
       "      <td>1</td>\n",
       "      <td>1</td>\n",
       "      <td>2</td>\n",
       "      <td>1</td>\n",
       "    </tr>\n",
       "    <tr>\n",
       "      <th>1524693</th>\n",
       "      <td>1</td>\n",
       "      <td>1</td>\n",
       "      <td>2</td>\n",
       "      <td>2</td>\n",
       "      <td>1</td>\n",
       "    </tr>\n",
       "    <tr>\n",
       "      <th>2017453</th>\n",
       "      <td>1</td>\n",
       "      <td>3</td>\n",
       "      <td>1</td>\n",
       "      <td>2</td>\n",
       "      <td>2</td>\n",
       "    </tr>\n",
       "    <tr>\n",
       "      <th>1670807</th>\n",
       "      <td>1</td>\n",
       "      <td>4</td>\n",
       "      <td>4</td>\n",
       "      <td>3</td>\n",
       "      <td>1</td>\n",
       "    </tr>\n",
       "    <tr>\n",
       "      <th>3389132</th>\n",
       "      <td>0</td>\n",
       "      <td>3</td>\n",
       "      <td>2</td>\n",
       "      <td>2</td>\n",
       "      <td>1</td>\n",
       "    </tr>\n",
       "  </tbody>\n",
       "</table>\n",
       "</div>"
      ],
      "text/plain": [
       "         manhattan  tip  dist  speed  pass\n",
       "1549869          0    1     1      2     1\n",
       "1524693          1    1     2      2     1\n",
       "2017453          1    3     1      2     2\n",
       "1670807          1    4     4      3     1\n",
       "3389132          0    3     2      2     1"
      ]
     },
     "execution_count": 23,
     "metadata": {},
     "output_type": "execute_result"
    }
   ],
   "source": [
    "import pandas as pd\n",
    "# Generating radom data with each variable have 2 states and equal probabilities for each state\n",
    "from sklearn.cross_validation import train_test_split\n",
    "data = pd.read_csv(\"https://serv.cusp.nyu.edu/classes/ML_2016_Spring/ML_2017/NYC_taxi_sample.csv\",index_col=0)\n",
    "data.manhattan=data.manhattan-1\n",
    "train,test=train_test_split(data,random_state=999,test_size=0.2)\n",
    "train.head()"
   ]
  },
  {
   "cell_type": "markdown",
   "metadata": {},
   "source": [
    "### (1) Detect the structure. \n",
    "\n",
    "Why don't try some both ExhaustiveSearch and HillClimbSearch with different scoring_methods\n",
    "\n",
    "### (2) Train parameters using your learnt structure and get all independencies.\n",
    "\n",
    "### (3)Report the OS classification accuracy for \"Manhattan\" \n",
    "\n",
    "use: model.predict\n",
    "\n",
    "The code contains a bug. Change all the class from 0 not from 1. Your current values are from 1.\n",
    "\n",
    "### (4) Use PC Algorithm to detect causal direction among the features provided."
   ]
  },
  {
   "cell_type": "code",
   "execution_count": 24,
   "metadata": {
    "collapsed": false
   },
   "outputs": [
    {
     "name": "stdout",
     "output_type": "stream",
     "text": [
      "[('dist', 'speed'), ('manhattan', 'tip'), ('manhattan', 'pass'), ('speed', 'manhattan'), ('pass', 'tip')]\n"
     ]
    }
   ],
   "source": [
    "hc = HillClimbSearch(train, scoring_method=BicScore(train))\n",
    "best_model = hc.estimate()\n",
    "print(best_model.edges())"
   ]
  },
  {
   "cell_type": "code",
   "execution_count": 25,
   "metadata": {
    "collapsed": false,
    "scrolled": false
   },
   "outputs": [
    {
     "name": "stdout",
     "output_type": "stream",
     "text": [
      "CPD of dist:\n",
      "+---------+-----------+\n",
      "| dist(1) | 0.305184  |\n",
      "+---------+-----------+\n",
      "| dist(2) | 0.232231  |\n",
      "+---------+-----------+\n",
      "| dist(3) | 0.13019   |\n",
      "+---------+-----------+\n",
      "| dist(4) | 0.109078  |\n",
      "+---------+-----------+\n",
      "| dist(5) | 0.0832747 |\n",
      "+---------+-----------+\n",
      "| dist(6) | 0.140042  |\n",
      "+---------+-----------+\n",
      "CPD of manhattan:\n",
      "+--------------+----------------+----------------+----------------+---------------+----------------+-----------------+\n",
      "| speed        | speed(1)       | speed(2)       | speed(3)       | speed(4)      | speed(5)       | speed(6)        |\n",
      "+--------------+----------------+----------------+----------------+---------------+----------------+-----------------+\n",
      "| manhattan(0) | 0.301324503311 | 0.352281226627 | 0.575835475578 | 0.74870017331 | 0.812154696133 | 0.90099009901   |\n",
      "+--------------+----------------+----------------+----------------+---------------+----------------+-----------------+\n",
      "| manhattan(1) | 0.698675496689 | 0.647718773373 | 0.424164524422 | 0.25129982669 | 0.187845303867 | 0.0990099009901 |\n",
      "+--------------+----------------+----------------+----------------+---------------+----------------+-----------------+\n",
      "CPD of pass:\n",
      "+-----------+-----------------+-----------------+\n",
      "| manhattan | manhattan(0)    | manhattan(1)    |\n",
      "+-----------+-----------------+-----------------+\n",
      "| pass(1)   | 0.707439525331  | 0.651061776062  |\n",
      "+-----------+-----------------+-----------------+\n",
      "| pass(2)   | 0.12733911456   | 0.198841698842  |\n",
      "+-----------+-----------------+-----------------+\n",
      "| pass(3)   | 0.0556823368325 | 0.0873552123552 |\n",
      "+-----------+-----------------+-----------------+\n",
      "| pass(4)   | 0.109539023277  | 0.0627413127413 |\n",
      "+-----------+-----------------+-----------------+\n",
      "CPD of speed:\n",
      "+----------+------------------+-----------------+-----------------+-----------------+------------------+------------------+\n",
      "| dist     | dist(1)          | dist(2)         | dist(3)         | dist(4)         | dist(5)          | dist(6)          |\n",
      "+----------+------------------+-----------------+-----------------+-----------------+------------------+------------------+\n",
      "| speed(1) | 0.511913912375   | 0.19898989899   | 0.0486486486486 | 0.0215053763441 | 0.00281690140845 | 0.00837520938023 |\n",
      "+----------+------------------+-----------------+-----------------+-----------------+------------------+------------------+\n",
      "| speed(2) | 0.415065334358   | 0.487878787879  | 0.363963963964  | 0.150537634409  | 0.0760563380282  | 0.0251256281407  |\n",
      "+----------+------------------+-----------------+-----------------+-----------------+------------------+------------------+\n",
      "| speed(3) | 0.0561106840892  | 0.208080808081  | 0.297297297297  | 0.329032258065  | 0.214084507042   | 0.175879396985   |\n",
      "+----------+------------------+-----------------+-----------------+-----------------+------------------+------------------+\n",
      "| speed(4) | 0.00922367409685 | 0.0676767676768 | 0.194594594595  | 0.268817204301  | 0.323943661972   | 0.251256281407   |\n",
      "+----------+------------------+-----------------+-----------------+-----------------+------------------+------------------+\n",
      "| speed(5) | 0.00307455803228 | 0.0232323232323 | 0.0612612612613 | 0.154838709677  | 0.222535211268   | 0.251256281407   |\n",
      "+----------+------------------+-----------------+-----------------+-----------------+------------------+------------------+\n",
      "| speed(6) | 0.00461183704842 | 0.0141414141414 | 0.0342342342342 | 0.0752688172043 | 0.160563380282   | 0.28810720268    |\n",
      "+----------+------------------+-----------------+-----------------+-----------------+------------------+------------------+\n",
      "CPD of tip:\n",
      "+-----------+-----------------+-----------------+-----------------+-----------------+-----------------+-----------------+-----------------+-----------------+\n",
      "| manhattan | manhattan(0)    | manhattan(0)    | manhattan(0)    | manhattan(0)    | manhattan(1)    | manhattan(1)    | manhattan(1)    | manhattan(1)    |\n",
      "+-----------+-----------------+-----------------+-----------------+-----------------+-----------------+-----------------+-----------------+-----------------+\n",
      "| pass      | pass(1)         | pass(2)         | pass(3)         | pass(4)         | pass(1)         | pass(2)         | pass(3)         | pass(4)         |\n",
      "+-----------+-----------------+-----------------+-----------------+-----------------+-----------------+-----------------+-----------------+-----------------+\n",
      "| tip(1)    | 0.605161290323  | 0.508960573477  | 0.360655737705  | 0.470833333333  | 0.538917716827  | 0.0728155339806 | 0.0662983425414 | 0.1             |\n",
      "+-----------+-----------------+-----------------+-----------------+-----------------+-----------------+-----------------+-----------------+-----------------+\n",
      "| tip(2)    | 0.0922580645161 | 0.0967741935484 | 0.106557377049  | 0.0666666666667 | 0.230541141586  | 0.106796116505  | 0.0386740331492 | 0.0153846153846 |\n",
      "+-----------+-----------------+-----------------+-----------------+-----------------+-----------------+-----------------+-----------------+-----------------+\n",
      "| tip(3)    | 0.0929032258065 | 0.111111111111  | 0.131147540984  | 0.108333333333  | 0.125277983692  | 0.390776699029  | 0.104972375691  | 0.1             |\n",
      "+-----------+-----------------+-----------------+-----------------+-----------------+-----------------+-----------------+-----------------+-----------------+\n",
      "| tip(4)    | 0.150967741935  | 0.186379928315  | 0.147540983607  | 0.1625          | 0.0733876945886 | 0.359223300971  | 0.32044198895   | 0.176923076923  |\n",
      "+-----------+-----------------+-----------------+-----------------+-----------------+-----------------+-----------------+-----------------+-----------------+\n",
      "| tip(5)    | 0.0341935483871 | 0.0537634408602 | 0.180327868852  | 0.1             | 0.0177909562639 | 0.0291262135922 | 0.325966850829  | 0.176923076923  |\n",
      "+-----------+-----------------+-----------------+-----------------+-----------------+-----------------+-----------------+-----------------+-----------------+\n",
      "| tip(6)    | 0.0245161290323 | 0.0430107526882 | 0.0737704918033 | 0.0916666666667 | 0.0140845070423 | 0.0412621359223 | 0.14364640884   | 0.430769230769  |\n",
      "+-----------+-----------------+-----------------+-----------------+-----------------+-----------------+-----------------+-----------------+-----------------+\n",
      "(speed _|_ tip, pass | manhattan)\n",
      "(speed _|_ tip, pass | dist, manhattan)\n",
      "(speed _|_ pass | tip, manhattan)\n",
      "(speed _|_ tip | manhattan, pass)\n",
      "(speed _|_ pass | tip, dist, manhattan)\n",
      "(speed _|_ tip | dist, manhattan, pass)\n",
      "(tip _|_ dist | speed)\n",
      "(tip _|_ speed, dist | manhattan)\n",
      "(tip _|_ speed | dist, manhattan)\n",
      "(tip _|_ dist | speed, manhattan)\n",
      "(tip _|_ dist | speed, pass)\n",
      "(tip _|_ speed, dist | manhattan, pass)\n",
      "(tip _|_ speed | dist, manhattan, pass)\n",
      "(tip _|_ dist | speed, manhattan, pass)\n",
      "(dist _|_ tip, manhattan, pass | speed)\n",
      "(dist _|_ tip, pass | manhattan)\n",
      "(dist _|_ manhattan, pass | tip, speed)\n",
      "(dist _|_ tip, pass | speed, manhattan)\n",
      "(dist _|_ tip, manhattan | speed, pass)\n",
      "(dist _|_ pass | tip, manhattan)\n",
      "(dist _|_ tip | manhattan, pass)\n",
      "(dist _|_ pass | tip, speed, manhattan)\n",
      "(dist _|_ manhattan | tip, speed, pass)\n",
      "(dist _|_ tip | speed, manhattan, pass)\n",
      "(manhattan _|_ dist | speed)\n",
      "(manhattan _|_ dist | tip, speed)\n",
      "(manhattan _|_ dist | speed, pass)\n",
      "(manhattan _|_ dist | tip, speed, pass)\n",
      "(pass _|_ dist | speed)\n",
      "(pass _|_ speed, dist | manhattan)\n",
      "(pass _|_ dist | tip, speed)\n",
      "(pass _|_ dist | speed, manhattan)\n",
      "(pass _|_ dist, speed | tip, manhattan)\n",
      "(pass _|_ speed | dist, manhattan)\n",
      "(pass _|_ dist | tip, speed, manhattan)\n",
      "(pass _|_ speed | dist, tip, manhattan)\n"
     ]
    }
   ],
   "source": [
    "# Defining the model\n",
    "from pgmpy.models import BayesianModel\n",
    "from pgmpy.estimators import MaximumLikelihoodEstimator, BayesianEstimator\n",
    "\n",
    "model = BayesianModel(best_model.edges())\n",
    "\n",
    "# Learing CPDs using Maximum Likelihood Estimators\n",
    "model.fit(train, estimator=MaximumLikelihoodEstimator)\n",
    "for cpd in model.get_cpds():\n",
    "    print(\"CPD of {variable}:\".format(variable=cpd.variable))\n",
    "    print(cpd)\n",
    "print model.get_independencies()"
   ]
  },
  {
   "cell_type": "code",
   "execution_count": 26,
   "metadata": {
    "collapsed": false
   },
   "outputs": [
    {
     "data": {
      "text/plain": [
       "0.69418386491557227"
      ]
     },
     "execution_count": 26,
     "metadata": {},
     "output_type": "execute_result"
    }
   ],
   "source": [
    "test.index=range(len(test))\n",
    "predict_data = test.copy()\n",
    "predict_data.drop('manhattan', axis=1, inplace=True)\n",
    "y_pred = model.predict(predict_data-1)\n",
    "(y_pred[\"manhattan\"]==test.manhattan).sum()*1.0/len(test)"
   ]
  },
  {
   "cell_type": "code",
   "execution_count": null,
   "metadata": {
    "collapsed": true
   },
   "outputs": [],
   "source": []
  },
  {
   "cell_type": "markdown",
   "metadata": {},
   "source": [
    "### Causal Direction"
   ]
  },
  {
   "cell_type": "code",
   "execution_count": 29,
   "metadata": {
    "collapsed": false
   },
   "outputs": [
    {
     "name": "stdout",
     "output_type": "stream",
     "text": [
      "('Undirected edges: ', [('tip', 'pass'), ('dist', 'speed'), ('dist', 'manhattan'), ('manhattan', 'speed')])\n",
      "('PDAG edges:       ', [('dist', 'speed'), ('dist', 'manhattan'), ('tip', 'pass'), ('manhattan', 'speed'), ('manhattan', 'dist'), ('speed', 'dist'), ('speed', 'manhattan'), ('pass', 'tip')])\n"
     ]
    }
   ],
   "source": [
    "est = ConstraintBasedEstimator(train)\n",
    "skel, seperating_sets = est.estimate_skeleton(significance_level=0.01)\n",
    "print(\"Undirected edges: \", skel.edges())\n",
    "\n",
    "pdag = est.skeleton_to_pdag(skel, seperating_sets)\n",
    "print(\"PDAG edges:       \", pdag.edges())"
   ]
  },
  {
   "cell_type": "code",
   "execution_count": null,
   "metadata": {
    "collapsed": true
   },
   "outputs": [],
   "source": []
  },
  {
   "cell_type": "markdown",
   "metadata": {},
   "source": [
    "\n",
    "### References\n",
    "\n",
    "[1] Koller & Friedman, Probabilistic Graphical Models - Principles and Techniques, 2009\n",
    "\n",
    "[2] Neapolitan, [Learning Bayesian Networks](http://www.cs.technion.ac.il/~dang/books/Learning%20Bayesian%20Networks&#40;Neapolitan,%20Richard&#41;.pdf), 2003\n",
    "\n",
    "[3] Tsamardinos et al., [The max-min hill-climbing BN structure learning algorithm](http://www.dsl-lab.org/supplements/mmhc_paper/paper_online.pdf), 2005\n",
    "\n"
   ]
  }
 ],
 "metadata": {
  "kernelspec": {
   "display_name": "Python [Root]",
   "language": "python",
   "name": "Python [Root]"
  }
 },
 "nbformat": 4,
 "nbformat_minor": 0
}
