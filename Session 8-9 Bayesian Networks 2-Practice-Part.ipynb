{
 "cells": [
  {
   "cell_type": "markdown",
   "metadata": {
    "deletable": true,
    "editable": true
   },
   "source": [
    "\n",
    "# Bayesian Networks Part Two\n",
    "\n",
    "(The main notbook are reused from pgmpy package.)\n",
    "\n",
    "\n",
    "This section will be about obtaining a Bayesian network, given a set of sample data. Learning a Bayesian network can be split into two problems:\n",
    "\n",
    " **Parameter learning:** Given a set of data samples and a DAG that captures the dependencies between the variables, estimate the (conditional) probability distributions of the individual variables.\n",
    " \n",
    " **Structure learning:** Given a set of data samples, estimate a DAG that captures the dependencies between the variables.\n",
    " \n",
    "This notebook aims to illustrate how parameter learning and structure learning can be done with pgmpy.\n",
    "Currently, the library supports:\n",
    " - Parameter learning for *discrete* nodes:\n",
    "   - Maximum Likelihood Estimation\n",
    "   - Bayesian Estimation\n",
    " - Structure learning for *discrete*, *fully observed* networks:\n",
    "   - Score-based structure estimation (BIC/BDeu/K2 score; exhaustive search, hill climb/tabu search)\n",
    "   - Constraint-based structure estimation (PC)\n",
    "\n",
    "\n",
    "## Parameter Learning\n",
    "\n",
    "Suppose we have the following data:"
   ]
  },
  {
   "cell_type": "code",
   "execution_count": 22,
   "metadata": {
    "collapsed": false,
    "deletable": true,
    "editable": true
   },
   "outputs": [
    {
     "name": "stdout",
     "output_type": "stream",
     "text": [
      "     fruit   size tasty\n",
      "0   banana  large   yes\n",
      "1    apple  large    no\n",
      "2   banana  large   yes\n",
      "3    apple  small   yes\n",
      "4   banana  large   yes\n",
      "5    apple  large   yes\n",
      "6   banana  large   yes\n",
      "7    apple  small   yes\n",
      "8    apple  large   yes\n",
      "9    apple  large   yes\n",
      "10  banana  large   yes\n",
      "11  banana  large    no\n",
      "12   apple  small    no\n",
      "13  banana  small    no\n"
     ]
    }
   ],
   "source": [
    "import pandas as pd\n",
    "data = pd.DataFrame(data={'fruit': [\"banana\", \"apple\", \"banana\", \"apple\", \"banana\",\"apple\", \"banana\", \n",
    "                                    \"apple\", \"apple\", \"apple\", \"banana\", \"banana\", \"apple\", \"banana\",], \n",
    "                          'tasty': [\"yes\", \"no\", \"yes\", \"yes\", \"yes\", \"yes\", \"yes\", \n",
    "                                    \"yes\", \"yes\", \"yes\", \"yes\", \"no\", \"no\", \"no\"], \n",
    "                          'size': [\"large\", \"large\", \"large\", \"small\", \"large\", \"large\", \"large\",\n",
    "                                    \"small\", \"large\", \"large\", \"large\", \"large\", \"small\", \"small\"]})\n",
    "print(data)"
   ]
  },
  {
   "cell_type": "markdown",
   "metadata": {
    "deletable": true,
    "editable": true
   },
   "source": [
    "We know that the variables relate as follows:"
   ]
  },
  {
   "cell_type": "code",
   "execution_count": 23,
   "metadata": {
    "collapsed": false,
    "deletable": true,
    "editable": true
   },
   "outputs": [],
   "source": [
    "from pgmpy.models import BayesianModel\n",
    "\n",
    "model = BayesianModel([('fruit', 'tasty'), ('size', 'tasty')])  # fruit -> tasty <- size"
   ]
  },
  {
   "cell_type": "markdown",
   "metadata": {
    "deletable": true,
    "editable": true
   },
   "source": [
    "Parameter learning is the task to estimate the values of the conditional probability distributions (CPDs), for the variables `fruit`, `size`, and `tasty`. \n",
    "\n",
    "#### State counts\n",
    "To make sense of the given data, we can start by counting how often each state of the variable occurs. If the variable is dependent on parents, the counts are done conditionally on the parents states, i.e. for seperately for each parent configuration:"
   ]
  },
  {
   "cell_type": "code",
   "execution_count": 24,
   "metadata": {
    "collapsed": false,
    "deletable": true,
    "editable": true
   },
   "outputs": [
    {
     "name": "stdout",
     "output_type": "stream",
     "text": [
      "('\\n',         fruit\n",
      "apple       7\n",
      "banana      7)\n",
      "('\\n', fruit apple       banana      \n",
      "size  large small  large small\n",
      "tasty                         \n",
      "no      1.0   1.0    1.0   1.0\n",
      "yes     3.0   2.0    5.0   0.0)\n"
     ]
    }
   ],
   "source": [
    "from pgmpy.estimators import ParameterEstimator\n",
    "pe = ParameterEstimator(model, data)\n",
    "print(\"\\n\", pe.state_counts('fruit'))  # unconditional\n",
    "print(\"\\n\", pe.state_counts('tasty'))  # conditional on fruit and size"
   ]
  },
  {
   "cell_type": "markdown",
   "metadata": {
    "deletable": true,
    "editable": true
   },
   "source": [
    "We can see, for example, that as many apples as bananas were observed and that `5` large bananas were tasty, while only `1` was not.\n",
    "\n",
    "#### Maximum Likelihood Estimation\n",
    "\n",
    "A natural estimate for the CPDs is to simply use the *relative frequencies*, with which the variable states have occured. We observed `7 apples` among a total of `14 fruits`, so we might guess that about `50%` of `fruits` are `apples`.\n",
    "\n",
    "This approach is *Maximum Likelihood Estimation (MLE)*. According to MLE, we should fill the CPDs in such a way, that $P(\\text{data}|\\text{model})$ is maximal. This is achieved when using the *relative frequencies*. See [1], section 17.1 for an introduction to ML parameter estimation. pgmpy supports MLE as follows:"
   ]
  },
  {
   "cell_type": "code",
   "execution_count": 25,
   "metadata": {
    "collapsed": false,
    "deletable": true,
    "editable": true
   },
   "outputs": [
    {
     "name": "stdout",
     "output_type": "stream",
     "text": [
      "+---------------+-----+\n",
      "| fruit(apple)  | 0.5 |\n",
      "+---------------+-----+\n",
      "| fruit(banana) | 0.5 |\n",
      "+---------------+-----+\n",
      "+------------+--------------+----------------+----------------+---------------+\n",
      "| fruit      | fruit(apple) | fruit(apple)   | fruit(banana)  | fruit(banana) |\n",
      "+------------+--------------+----------------+----------------+---------------+\n",
      "| size       | size(large)  | size(small)    | size(large)    | size(small)   |\n",
      "+------------+--------------+----------------+----------------+---------------+\n",
      "| tasty(no)  | 0.25         | 0.333333333333 | 0.166666666667 | 1.0           |\n",
      "+------------+--------------+----------------+----------------+---------------+\n",
      "| tasty(yes) | 0.75         | 0.666666666667 | 0.833333333333 | 0.0           |\n",
      "+------------+--------------+----------------+----------------+---------------+\n"
     ]
    }
   ],
   "source": [
    "from pgmpy.estimators import MaximumLikelihoodEstimator\n",
    "mle = MaximumLikelihoodEstimator(model, data)\n",
    "print(mle.estimate_cpd('fruit'))  # unconditional\n",
    "print(mle.estimate_cpd('tasty'))  # conditional"
   ]
  },
  {
   "cell_type": "markdown",
   "metadata": {
    "deletable": true,
    "editable": true
   },
   "source": [
    "`mle.estimate_cpd(variable)` computes the state counts and divides each cell by the (conditional) sample size. The `mle.get_parameters()`-method returns a list of CPDs for all variable of the model.\n",
    "\n",
    "The built-in `fit()`-method of `BayesianModel` provides more convenient access to parameter estimators:\n"
   ]
  },
  {
   "cell_type": "code",
   "execution_count": 26,
   "metadata": {
    "collapsed": false,
    "deletable": true,
    "editable": true
   },
   "outputs": [
    {
     "name": "stdout",
     "output_type": "stream",
     "text": [
      "+---------------+-----+\n",
      "| fruit(apple)  | 0.5 |\n",
      "+---------------+-----+\n",
      "| fruit(banana) | 0.5 |\n",
      "+---------------+-----+\n",
      "+------------+--------------+----------------+----------------+---------------+\n",
      "| fruit      | fruit(apple) | fruit(apple)   | fruit(banana)  | fruit(banana) |\n",
      "+------------+--------------+----------------+----------------+---------------+\n",
      "| size       | size(large)  | size(small)    | size(large)    | size(small)   |\n",
      "+------------+--------------+----------------+----------------+---------------+\n",
      "| tasty(no)  | 0.25         | 0.333333333333 | 0.166666666667 | 1.0           |\n",
      "+------------+--------------+----------------+----------------+---------------+\n",
      "| tasty(yes) | 0.75         | 0.666666666667 | 0.833333333333 | 0.0           |\n",
      "+------------+--------------+----------------+----------------+---------------+\n"
     ]
    }
   ],
   "source": [
    "# Calibrate all CPDs of `model` using MLE:\n",
    "from pgmpy.estimators import MaximumLikelihoodEstimator\n",
    "mle = MaximumLikelihoodEstimator(model, data)\n",
    "print(mle.estimate_cpd('fruit'))  # unconditional\n",
    "print(mle.estimate_cpd('tasty'))  # conditional"
   ]
  },
  {
   "cell_type": "markdown",
   "metadata": {
    "deletable": true,
    "editable": true
   },
   "source": [
    "\n",
    "While very straightforward, the ML estimator has the problem of *overfitting* to the data. In above CPD, the probability of a large banana being tasty is estimated at `0.833`, because `5` out of `6` observed large bananas were tasty. Fine. But note that the probability of a small banana being tasty is estimated at `0.0`, because we  observed only one small banana and it happened to be not tasty. But that should hardly make us certain that small bananas aren't tasty!\n",
    "We simply do not have enough observations to rely on the observed frequencies. If the observed data is not representative for the underlying distribution, ML estimations will be extremly far off. \n",
    "\n",
    "When estimating parameters for Bayesian networks, lack of data is a frequent problem. Even if the total sample size is very large, the fact that state counts are done conditionally for each parents configuration causes immense fragmentation. If a variable has 3 parents that can each take 10 states, then state counts will be done seperately for `10^3 = 1000` parents configurations. This makes MLE very fragile and unstable for learning Bayesian Network parameters. A way to mitigate MLE's overfitting is *Bayesian Parameter Estimation*.\n",
    "\n",
    "#### Bayesian Parameter Estimation\n",
    "\n",
    "The Bayesian Parameter Estimator starts with already existing prior CPDs, that express our beliefs about the variables *before* the data was observed. Those \"priors\" are then updated, using the state counts from the observed data. See [1], Section 17.3 for a general introduction to Bayesian estimators.\n",
    "\n",
    "One can think of the priors as consisting in *pseudo state counts*, that are added to the actual counts before normalization.\n",
    "Unless one wants to encode specific beliefs about the distributions of the variables, one commonly chooses uniform priors, i.e. ones that deem all states equiprobable.\n",
    "\n",
    "A very simple prior is the so-called *K2* prior, which simply adds `1` to the count of every single state.\n",
    "A somewhat more sensible choice of prior is *BDeu* (Bayesian Dirichlet equivalent uniform prior). For BDeu we need to specify an *equivalent sample size* `N` and then the pseudo-counts are the equivalent of having observed `N` uniform samples of each variable (and each parent configuration). In pgmpy:\n",
    "\n",
    "\n"
   ]
  },
  {
   "cell_type": "code",
   "execution_count": 28,
   "metadata": {
    "collapsed": false,
    "deletable": true,
    "editable": true,
    "scrolled": true
   },
   "outputs": [
    {
     "name": "stdout",
     "output_type": "stream",
     "text": [
      "+------------+----------------+----------------+----------------+----------------+\n",
      "| fruit      | fruit(apple)   | fruit(apple)   | fruit(banana)  | fruit(banana)  |\n",
      "+------------+----------------+----------------+----------------+----------------+\n",
      "| size       | size(large)    | size(small)    | size(large)    | size(small)    |\n",
      "+------------+----------------+----------------+----------------+----------------+\n",
      "| tasty(no)  | 0.346153846154 | 0.409090909091 | 0.264705882353 | 0.642857142857 |\n",
      "+------------+----------------+----------------+----------------+----------------+\n",
      "| tasty(yes) | 0.653846153846 | 0.590909090909 | 0.735294117647 | 0.357142857143 |\n",
      "+------------+----------------+----------------+----------------+----------------+\n"
     ]
    }
   ],
   "source": [
    "from pgmpy.estimators import BayesianEstimator\n",
    "est = BayesianEstimator(model, data)\n",
    "\n",
    "print(est.estimate_cpd('tasty', prior_type='BDeu', equivalent_sample_size=10))"
   ]
  },
  {
   "cell_type": "markdown",
   "metadata": {
    "deletable": true,
    "editable": true
   },
   "source": [
    "The estimated values in the CPDs are now more conservative. In particular, the estimate for a small banana being not tasty is now around `0.64` rather than `1.0`. Setting `equivalent_sample_size` to `10` means that for each parent configuration, we add the equivalent of 10 uniform samples (here: `+5` small bananas that are tasty and `+5` that aren't).\n",
    "\n",
    "`BayesianEstimator`, too, can be used via the `fit()`-method. Full example:"
   ]
  },
  {
   "cell_type": "markdown",
   "metadata": {
    "deletable": true,
    "editable": true
   },
   "source": [
    "##### Parameters\n",
    "----------\n",
    "prior_type: 'dirichlet', 'BDeu', or 'K2'\n",
    "\n",
    "string indicting which type of prior to use for the model parameters.\n",
    "            \n",
    "- If 'prior_type' is 'dirichlet', the following must be provided:\n",
    "\n",
    "'pseudo_counts' = dirichlet hyperparameters; a dict containing, for each variable, a list with a \"virtual\" count for each variable state, that is added to the state counts.(lexicographic ordering of states assumed)\n",
    "            \n",
    "- If 'prior_type' is 'BDeu', then an 'equivalent_sample_size' must be specified instead of 'pseudo_counts'. This is equivalent to 'prior_type=dirichlet' and using uniform 'pseudo_counts' of `equivalent_sample_size/(node_cardinality*np.pro(parents_cardinalities))` for each node.\n",
    "'equivalent_sample_size' can either be a numerical value or a dict that specifies the size for each variable seperately.\n",
    "\n",
    "- A prior_type of 'K2' is a shorthand for 'dirichlet' + setting every pseudo_count to 1,regardless of the cardinality of the variable.\n",
    "\n",
    "##### Returns\n",
    "-------\n",
    "parameters: list\n",
    "\n",
    "List of TabularCPDs, one for each variable of the model\n"
   ]
  },
  {
   "cell_type": "code",
   "execution_count": 29,
   "metadata": {
    "collapsed": false,
    "deletable": true,
    "editable": true
   },
   "outputs": [
    {
     "name": "stdout",
     "output_type": "stream",
     "text": [
      "CPD of A:\n",
      "+------+----------+\n",
      "| A(0) | 0.502745 |\n",
      "+------+----------+\n",
      "| A(1) | 0.497255 |\n",
      "+------+----------+\n",
      "CPD of C:\n",
      "+------+----------------+--------------+----------------+----------------+\n",
      "| A    | A(0)           | A(0)         | A(1)           | A(1)           |\n",
      "+------+----------------+--------------+----------------+----------------+\n",
      "| D    | D(0)           | D(1)         | D(0)           | D(1)           |\n",
      "+------+----------------+--------------+----------------+----------------+\n",
      "| C(0) | 0.511914217633 | 0.5030651341 | 0.472359735974 | 0.479229607251 |\n",
      "+------+----------------+--------------+----------------+----------------+\n",
      "| C(1) | 0.488085782367 | 0.4969348659 | 0.527640264026 | 0.520770392749 |\n",
      "+------+----------------+--------------+----------------+----------------+\n",
      "CPD of B:\n",
      "+------+----------------+----------------+\n",
      "| A    | A(0)           | A(1)           |\n",
      "+------+----------------+----------------+\n",
      "| B(0) | 0.503510140406 | 0.513012618297 |\n",
      "+------+----------------+----------------+\n",
      "| B(1) | 0.496489859594 | 0.486987381703 |\n",
      "+------+----------------+----------------+\n",
      "CPD of D:\n",
      "+------+----------------+----------------+\n",
      "| B    | B(0)           | B(1)           |\n",
      "+------+----------------+----------------+\n",
      "| D(0) | 0.488811728395 | 0.480063795853 |\n",
      "+------+----------------+----------------+\n",
      "| D(1) | 0.511188271605 | 0.519936204147 |\n",
      "+------+----------------+----------------+\n"
     ]
    }
   ],
   "source": [
    "import numpy as np\n",
    "import pandas as pd\n",
    "from pgmpy.models import BayesianModel\n",
    "from pgmpy.estimators import BayesianEstimator\n",
    "\n",
    "# generate data\n",
    "data = pd.DataFrame(np.random.randint(low=0, high=2, size=(5000, 4)), columns=['A', 'B', 'C', 'D'])\n",
    "model = BayesianModel([('A', 'B'), ('A', 'C'), ('D', 'C'), ('B', 'D')])\n",
    "\n",
    "model.fit(data, estimator=BayesianEstimator, prior_type='BDeu', equivalent_sample_size=100)\n",
    "for cpd in model.get_cpds():\n",
    "    print(\"CPD of {variable}:\".format(variable=cpd.variable))\n",
    "    print(cpd)\n"
   ]
  },
  {
   "cell_type": "code",
   "execution_count": 30,
   "metadata": {
    "collapsed": false,
    "deletable": true,
    "editable": true
   },
   "outputs": [
    {
     "name": "stdout",
     "output_type": "stream",
     "text": [
      "CPD of A:\n",
      "+------+-------+\n",
      "| A(0) | 0.469 |\n",
      "+------+-------+\n",
      "| A(1) | 0.531 |\n",
      "+------+-------+\n",
      "CPD of C:\n",
      "+------+----------------+----------------+----------------+----------------+\n",
      "| A    | A(0)           | A(0)           | A(1)           | A(1)           |\n",
      "+------+----------------+----------------+----------------+----------------+\n",
      "| D    | D(0)           | D(1)           | D(0)           | D(1)           |\n",
      "+------+----------------+----------------+----------------+----------------+\n",
      "| C(0) | 0.641002685765 | 0.633333333333 | 0.621856424326 | 0.618529795563 |\n",
      "+------+----------------+----------------+----------------+----------------+\n",
      "| C(1) | 0.358997314235 | 0.366666666667 | 0.378143575674 | 0.381470204437 |\n",
      "+------+----------------+----------------+----------------+----------------+\n",
      "CPD of B:\n",
      "+------+----------------+----------------+\n",
      "| A    | A(0)           | A(1)           |\n",
      "+------+----------------+----------------+\n",
      "| B(0) | 0.559476380194 | 0.566838783706 |\n",
      "+------+----------------+----------------+\n",
      "| B(1) | 0.440523619806 | 0.433161216294 |\n",
      "+------+----------------+----------------+\n",
      "CPD of D:\n",
      "+------+----------------+----------------+\n",
      "| B    | B(0)           | B(1)           |\n",
      "+------+----------------+----------------+\n",
      "| D(0) | 0.491812535291 | 0.485540775014 |\n",
      "+------+----------------+----------------+\n",
      "| D(1) | 0.508187464709 | 0.514459224986 |\n",
      "+------+----------------+----------------+\n"
     ]
    }
   ],
   "source": [
    "pseudo_counts = {'A': [300, 700], 'B': [700, 300], 'C': [800, 200], 'D': [500, 500]}\n",
    "model.fit(data, estimator=BayesianEstimator, prior_type='dirichlet', pseudo_counts=pseudo_counts)\n",
    "for cpd in model.get_cpds():\n",
    "    print(\"CPD of {variable}:\".format(variable=cpd.variable))\n",
    "    print(cpd)"
   ]
  },
  {
   "cell_type": "markdown",
   "metadata": {
    "deletable": true,
    "editable": true
   },
   "source": [
    "### Practice One:"
   ]
  },
  {
   "cell_type": "code",
   "execution_count": 31,
   "metadata": {
    "collapsed": false,
    "deletable": true,
    "editable": true
   },
   "outputs": [
    {
     "name": "stdout",
     "output_type": "stream",
     "text": [
      "   D  I  G\n",
      "0  1  0  1\n",
      "1  2  1  1\n",
      "2  0  0  0\n",
      "3  1  0  1\n",
      "4  0  0  0\n"
     ]
    }
   ],
   "source": [
    "np.random.seed(100)\n",
    "raw_data = np.random.randint(low=0, high=2, size=(1000, 3))\n",
    "data = pd.DataFrame(raw_data, columns=['D', 'I', 'G'])\n",
    "data.D=data.I+data.G\n",
    "np.random.seed(1000)\n",
    "raw_data = np.random.randint(low=0, high=2, size=(20, 3))\n",
    "data_test = pd.DataFrame(raw_data, columns=['D', 'I', 'G'])\n",
    "data_test.I=1\n",
    "data_test.D=data_test.I+data_test.G\n",
    "print(data.head())\n",
    "model = BayesianModel([(\"I\",\"D\"),(\"G\",\"D\")])"
   ]
  },
  {
   "cell_type": "code",
   "execution_count": null,
   "metadata": {
    "collapsed": false,
    "deletable": true,
    "editable": true
   },
   "outputs": [],
   "source": []
  },
  {
   "cell_type": "markdown",
   "metadata": {
    "deletable": true,
    "editable": true
   },
   "source": [
    "### Q1. Please fit the data using BayesianEstimator. What are your CPDs. (use BDeu: 100 for example)? \n",
    "\n",
    "### Q2. \n",
    "\n",
    "a) Predict \"G\" using \"I\" by your model. What is the OS accuracy of prediction? What if use \"I\" and \"D\"?\n",
    "\n",
    "b) Predict \"D\" using \"G\" by your model. What is the OS accuracy of prediction? What if use \"I\" and \"G\"?\n",
    "\n",
    "b) What if you have the following sampling observations as prior?\n",
    "\n",
    "pseudo_counts = {'D': [2000,1000,2000], 'I': [300, 700], 'G': [100, 100]}\n"
   ]
  },
  {
   "cell_type": "code",
   "execution_count": null,
   "metadata": {
    "collapsed": true,
    "deletable": true,
    "editable": true
   },
   "outputs": [],
   "source": []
  },
  {
   "cell_type": "code",
   "execution_count": null,
   "metadata": {
    "collapsed": true,
    "deletable": true,
    "editable": true
   },
   "outputs": [],
   "source": []
  },
  {
   "cell_type": "markdown",
   "metadata": {
    "deletable": true,
    "editable": true
   },
   "source": [
    "## Structure Learning\n",
    "\n",
    "To learn model structure (a DAG) from a data set, there are two broad techniques:\n",
    "\n",
    " - score-based structure learning\n",
    " - constraint-based structure learning\n",
    "\n",
    "We briefly discuss all approaches and give examples.\n",
    "\n",
    "### Score-based Structure Learning\n",
    "\n",
    "\n",
    "This approach construes model selection as an optimization task. It has two building blocks:\n",
    "\n",
    "- A _scoring function_ $s_D\\colon M \\to \\mathbb R$ that maps models to a numerical score, based on how well they fit to a given data set $D$.\n",
    "- A _search strategy_ to traverse the search space of possible models $M$ and select a model with optimal score.\n",
    "\n",
    "\n",
    "#### Scoring functions\n",
    "\n",
    "Commonly used scores to measure the fit between model and data are _Bayesian Dirichlet scores_ such as *BDeu* or *K2* and the _Bayesian Information Criterion_ (BIC, also called MDL). See [1], Section 18.3 for a detailed introduction on scores. As before, BDeu is dependent on an equivalent sample size."
   ]
  },
  {
   "cell_type": "code",
   "execution_count": 35,
   "metadata": {
    "collapsed": false,
    "deletable": true,
    "editable": true
   },
   "outputs": [
    {
     "name": "stdout",
     "output_type": "stream",
     "text": [
      "-13934.6238246\n",
      "-14325.3581389\n",
      "-14290.6641388\n",
      "-20895.3771637\n",
      "-20922.22821\n",
      "-20939.4281753\n"
     ]
    }
   ],
   "source": [
    "import pandas as pd\n",
    "import numpy as np\n",
    "from pgmpy.estimators import BdeuScore, K2Score, BicScore\n",
    "from pgmpy.models import BayesianModel\n",
    "\n",
    "# create random data sample with 3 variables, where Z is dependent on X, Y:\n",
    "data = pd.DataFrame(np.random.randint(0, 4, size=(5000, 2)), columns=list('XY'))\n",
    "data['Z'] = data['X'] + data['Y']\n",
    "\n",
    "bdeu = BdeuScore(data, equivalent_sample_size=5)\n",
    "k2 = K2Score(data)\n",
    "bic = BicScore(data)\n",
    "\n",
    "model1 = BayesianModel([('X', 'Z'), ('Y', 'Z')])  # X -> Z <- Y\n",
    "model2 = BayesianModel([('X', 'Z'), ('X', 'Y')])  # Y <- X -> Z\n",
    "\n",
    "\n",
    "print(bdeu.score(model1))\n",
    "print(k2.score(model1))\n",
    "print(bic.score(model1))\n",
    "\n",
    "print(bdeu.score(model2))\n",
    "print(k2.score(model2))\n",
    "print(bic.score(model2))\n"
   ]
  },
  {
   "cell_type": "markdown",
   "metadata": {
    "deletable": true,
    "editable": true
   },
   "source": [
    "While the scores vary slightly, we can see that the correct `model1` has a much higher score than `model2`.\n",
    "Importantly, these scores _decompose_, i.e. they can be computed locally for each of the variables given their potential parents, independent of other parts of the network:"
   ]
  },
  {
   "cell_type": "code",
   "execution_count": 36,
   "metadata": {
    "collapsed": false,
    "deletable": true,
    "editable": true
   },
   "outputs": [
    {
     "name": "stdout",
     "output_type": "stream",
     "text": [
      "-9246.48803524\n",
      "-6988.45541056\n",
      "-57.1166468066\n"
     ]
    }
   ],
   "source": [
    "print(bdeu.local_score('Z', parents=[]))\n",
    "print(bdeu.local_score('Z', parents=['X']))\n",
    "print(bdeu.local_score('Z', parents=['X', 'Y']))"
   ]
  },
  {
   "cell_type": "markdown",
   "metadata": {
    "deletable": true,
    "editable": true
   },
   "source": [
    "#### Search strategies\n",
    "The search space of DAGs is super-exponential in the number of variables and the above scoring functions allow for local maxima. The first property makes exhaustive search intractable for all but very small networks, the second prohibits efficient local optimization algorithms to always find the optimal structure. Thus, identifiying the ideal structure is often not tractable. Despite these bad news, heuristic search strategies often yields good results.\n",
    "\n",
    "If only few nodes are involved (read: less than 5), `ExhaustiveSearch` can be used to compute the score for every DAG and returns the best-scoring one:"
   ]
  },
  {
   "cell_type": "code",
   "execution_count": 37,
   "metadata": {
    "collapsed": false,
    "deletable": true,
    "editable": true
   },
   "outputs": [
    {
     "name": "stdout",
     "output_type": "stream",
     "text": [
      "[('Y', 'Z'), ('X', 'Z')]\n",
      "\n",
      "All DAGs by score:\n",
      "(-14290.664138819098, [('Y', 'Z'), ('X', 'Z')])\n",
      "(-14324.183352328386, [('Y', 'X'), ('Z', 'Y'), ('Z', 'X')])\n",
      "(-14324.183352328388, [('Y', 'X'), ('Y', 'Z'), ('Z', 'X')])\n",
      "(-14324.183352328388, [('Y', 'X'), ('Y', 'Z'), ('X', 'Z')])\n",
      "(-14324.183352328388, [('X', 'Y'), ('Z', 'Y'), ('Z', 'X')])\n",
      "(-14324.183352328389, [('X', 'Y'), ('X', 'Z'), ('Z', 'Y')])\n",
      "(-14324.183352328389, [('Y', 'Z'), ('X', 'Y'), ('X', 'Z')])\n",
      "(-16547.554933759962, [('Y', 'X'), ('Z', 'X')])\n",
      "(-16550.498352353869, [('X', 'Y'), ('Z', 'Y')])\n",
      "(-18682.537380375936, [('Z', 'Y'), ('Z', 'X')])\n",
      "(-18682.537380375936, [('Y', 'Z'), ('Z', 'X')])\n",
      "(-18682.537380375936, [('X', 'Z'), ('Z', 'Y')])\n",
      "(-20905.908961807512, [('Z', 'X')])\n",
      "(-20905.908961807512, [('X', 'Z')])\n",
      "(-20908.852380401415, [('Z', 'Y')])\n",
      "(-20908.852380401415, [('Y', 'Z')])\n",
      "(-20939.428175316803, [('Y', 'X'), ('X', 'Z')])\n",
      "(-20939.428175316803, [('X', 'Y'), ('Z', 'X')])\n",
      "(-20939.428175316803, [('X', 'Y'), ('X', 'Z')])\n",
      "(-20942.371593910706, [('Y', 'X'), ('Z', 'Y')])\n",
      "(-20942.371593910706, [('Y', 'X'), ('Y', 'Z')])\n",
      "(-20942.371593910706, [('Y', 'Z'), ('X', 'Y')])\n",
      "(-23132.223961832991, [])\n",
      "(-23165.743175342279, [('Y', 'X')])\n",
      "(-23165.743175342282, [('X', 'Y')])\n"
     ]
    }
   ],
   "source": [
    "from pgmpy.estimators import ExhaustiveSearch\n",
    "\n",
    "es = ExhaustiveSearch(data, scoring_method=bic)\n",
    "best_model = es.estimate()\n",
    "print(best_model.edges())\n",
    "\n",
    "print(\"\\nAll DAGs by score:\")\n",
    "for score, dag in reversed(es.all_scores()):\n",
    "    print(score, dag.edges())"
   ]
  },
  {
   "cell_type": "markdown",
   "metadata": {
    "deletable": true,
    "editable": true
   },
   "source": [
    "Once more nodes are involved, one needs to switch to heuristic search. `HillClimbSearch` implements a greedy local search that starts from the DAG `start` (default: disconnected DAG) and proceeds by iteratively performing single-edge manipulations that maximally increase the score. The search terminates once a local maximum is found.\n",
    "\n",
    "\n"
   ]
  },
  {
   "cell_type": "code",
   "execution_count": 38,
   "metadata": {
    "collapsed": false,
    "deletable": true,
    "editable": true
   },
   "outputs": [
    {
     "name": "stdout",
     "output_type": "stream",
     "text": [
      "[('A', 'C'), ('A', 'B'), ('C', 'B'), ('G', 'A'), ('H', 'A'), ('H', 'G')]\n"
     ]
    }
   ],
   "source": [
    "from pgmpy.estimators import HillClimbSearch\n",
    "\n",
    "# create some data with dependencies\n",
    "data = pd.DataFrame(np.random.randint(0, 3, size=(2500, 8)), columns=list('ABCDEFGH'))\n",
    "data['A'] += data['B'] + data['C']\n",
    "data['H'] = data['G'] - data['A']\n",
    "\n",
    "hc = HillClimbSearch(data, scoring_method=BicScore(data))\n",
    "best_model = hc.estimate()\n",
    "print(best_model.edges())"
   ]
  },
  {
   "cell_type": "markdown",
   "metadata": {
    "deletable": true,
    "editable": true
   },
   "source": [
    "The search correctly identifies e.g. that `B` and `C` do not influnce `H` directly, only through `A` and of course that `D`, `E`, `F` are independent.\n",
    "\n",
    "\n",
    "To enforce a wider exploration of the search space, the search can be enhanced with a tabu list. The list keeps track of the last `n` modfications; those are then not allowed to be reversed, regardless of the score. Additionally a `white_list` or `black_list` can be supplied to restrict the search to a particular subset or to exclude certain edges. The parameter `max_indegree` allows to restrict the maximum number of parents for each node.\n",
    "\n",
    "\n",
    "### Constraint-based Structure Learning\n",
    "\n",
    "A different, but quite straightforward approach to build a DAG from data is this:\n",
    "\n",
    "1. Identify independencies in the data set using hypothesis tests \n",
    "2. Construct DAG (pattern) according to identified independencies\n",
    "\n",
    "#### (Conditional) Independence Tests\n",
    "\n",
    "Independencies in the data can be identified using chi2 conditional independence tests. To this end, constraint-based estimators in pgmpy have a `test_conditional_independence(X, Y, Zs)`-method, that performs a hypothesis test on the data sample. It allows to check if `X` is independent from `Y` given a set of variables `Zs`:"
   ]
  },
  {
   "cell_type": "code",
   "execution_count": 43,
   "metadata": {
    "collapsed": false,
    "deletable": true,
    "editable": true
   },
   "outputs": [
    {
     "name": "stdout",
     "output_type": "stream",
     "text": [
      "(6.1723218881412896, 0.62793608123932787, True)\n",
      "(642.26408566045575, 8.9223247320303492e-119, True)\n",
      "(5.2884364885654032, 0.91639702286768754, True)\n",
      "(17.420123058426558, 0.99988839378303418, True)\n",
      "(4.7557222835527284, 0.99981264206824882, True)\n",
      "(4649.0, 0.0, True)\n"
     ]
    }
   ],
   "source": [
    "from pgmpy.estimators import ConstraintBasedEstimator\n",
    "\n",
    "data = pd.DataFrame(np.random.randint(0, 3, size=(2500, 8)), columns=list('ABCDEFGH'))\n",
    "data['A'] += data['B'] + data['C']\n",
    "data['H'] = data['G'] - data['A']\n",
    "data['E'] *= data['F']\n",
    "\n",
    "est = ConstraintBasedEstimator(data)\n",
    "\n",
    "print(est.test_conditional_independence('B', 'C'))          # independent\n",
    "print(est.test_conditional_independence('B', 'H'))          # dependent\n",
    "print(est.test_conditional_independence('B', 'E'))          # independent\n",
    "print(est.test_conditional_independence('B', 'H', ['A']))   # independent\n",
    "print(est.test_conditional_independence('A', 'G'))          # independent\n",
    "print(est.test_conditional_independence('A', 'G',  ['H']))  # dependent"
   ]
  },
  {
   "cell_type": "markdown",
   "metadata": {
    "deletable": true,
    "editable": true
   },
   "source": [
    "`test_conditional_independence()` returns a tripel `(chi2, p_value, sufficient_data)`, consisting in the computed chi2 test statistic, the `p_value` of the test, and a heuristig flag that indicates if the sample size was sufficient. The `p_value` is the probability of observing the computed chi2 statistic (or an even higher chi2 value), given the null hypothesis that X and Y are independent given Zs.\n",
    "\n",
    "This can be used to make independence judgements, at a given level of significance:"
   ]
  },
  {
   "cell_type": "code",
   "execution_count": 44,
   "metadata": {
    "collapsed": false,
    "deletable": true,
    "editable": true
   },
   "outputs": [
    {
     "name": "stdout",
     "output_type": "stream",
     "text": [
      "True\n",
      "False\n",
      "True\n",
      "True\n",
      "True\n",
      "False\n"
     ]
    }
   ],
   "source": [
    "def is_independent(X, Y, Zs=[], significance_level=0.05):\n",
    "    return est.test_conditional_independence(X, Y, Zs)[1] >= significance_level\n",
    "print(is_independent('B', 'C'))\n",
    "print(is_independent('B', 'H'))\n",
    "print(is_independent('B', 'E'))\n",
    "print(is_independent('B', 'H', ['A']))\n",
    "print(is_independent('A', 'G'))\n",
    "print(is_independent('A', 'G', ['H']))"
   ]
  },
  {
   "cell_type": "markdown",
   "metadata": {
    "deletable": true,
    "editable": true
   },
   "source": [
    "#### DAG (pattern) construction\n",
    "\n",
    "#### PC Algorithm for causal direction\n",
    "\n",
    "With a method for independence testing at hand, we can construct a DAG from the data set in three steps:\n",
    "1. Construct an undirected skeleton - `estimate_skeleton()`\n",
    "2. Orient compelled edges to obtain partially directed acyclid graph (PDAG; I-equivalence class of DAGs) - `skeleton_to_pdag()`\n",
    "\n",
    "\n",
    "####  The following step orients any remaining edges, essentially at random, but in a way which is consistent with the edge directions produced by PC.  This is useful if we want to use the learned structure to perform inference, but we should not make any assumptions re. causality from the edges directed in the last step.\n",
    "\n",
    "3. Extend DAG pattern to a DAG by conservatively orienting the remaining edges in some way - `pdag_to_dag()`\n",
    "\n",
    "Step 1.&2. form the so-called PC algorithm, see [2], page 550. PDAGs are `DirectedGraph`s, that may contain both-way edges, to indicate that the orientation for the edge is not determined.\n",
    "\n",
    "\n"
   ]
  },
  {
   "cell_type": "code",
   "execution_count": 45,
   "metadata": {
    "collapsed": false,
    "deletable": true,
    "editable": true
   },
   "outputs": [
    {
     "name": "stdout",
     "output_type": "stream",
     "text": [
      "('Undirected edges: ', [('A', 'C'), ('A', 'B'), ('A', 'H'), ('E', 'F'), ('G', 'H')])\n",
      "('PDAG edges:       ', [('A', 'H'), ('C', 'A'), ('B', 'A'), ('E', 'F'), ('G', 'H'), ('F', 'E')])\n",
      "('DAG edges:        ', [('A', 'H'), ('C', 'A'), ('B', 'A'), ('G', 'H'), ('F', 'E')])\n"
     ]
    }
   ],
   "source": [
    "skel, seperating_sets = est.estimate_skeleton(significance_level=0.01)\n",
    "print(\"Undirected edges: \", skel.edges())\n",
    "\n",
    "pdag = est.skeleton_to_pdag(skel, seperating_sets)\n",
    "print(\"PDAG edges:       \", pdag.edges())\n",
    "\n",
    "model = est.pdag_to_dag(pdag)\n",
    "print(\"DAG edges:        \", model.edges())"
   ]
  },
  {
   "cell_type": "markdown",
   "metadata": {
    "deletable": true,
    "editable": true
   },
   "source": [
    "#### The `estimate()`-method provides a shorthand for the three steps above and directly returns a `BayesianModel`. run these three steps separately rather than using the shortcut (estimate() function)\n",
    "\n"
   ]
  },
  {
   "cell_type": "code",
   "execution_count": 46,
   "metadata": {
    "collapsed": false,
    "deletable": true,
    "editable": true
   },
   "outputs": [
    {
     "name": "stdout",
     "output_type": "stream",
     "text": [
      "[('A', 'H'), ('C', 'A'), ('B', 'A'), ('G', 'H'), ('F', 'E')]\n"
     ]
    }
   ],
   "source": [
    "print(est.estimate(significance_level=0.01).edges())"
   ]
  },
  {
   "cell_type": "markdown",
   "metadata": {
    "deletable": true,
    "editable": true
   },
   "source": [
    "PC PDAG construction is only guaranteed to work under the assumption that the identified set of independencies is *faithful*, i.e. there exists a DAG that exactly corresponds to it. Spurious dependencies in the data set can cause the reported independencies to violate faithfulness. It can happen that the estimated PDAG does not have any faithful completions (i.e. edge orientations that do not introduce new v-structures). In that case a warning is issued."
   ]
  },
  {
   "cell_type": "code",
   "execution_count": null,
   "metadata": {
    "collapsed": true,
    "deletable": true,
    "editable": true
   },
   "outputs": [],
   "source": []
  },
  {
   "cell_type": "markdown",
   "metadata": {
    "deletable": true,
    "editable": true
   },
   "source": [
    "### Practice Two."
   ]
  },
  {
   "cell_type": "code",
   "execution_count": 47,
   "metadata": {
    "collapsed": false,
    "deletable": true,
    "editable": true
   },
   "outputs": [
    {
     "data": {
      "text/html": [
       "<div>\n",
       "<table border=\"1\" class=\"dataframe\">\n",
       "  <thead>\n",
       "    <tr style=\"text-align: right;\">\n",
       "      <th></th>\n",
       "      <th>manhattan</th>\n",
       "      <th>tip</th>\n",
       "      <th>dist</th>\n",
       "      <th>speed</th>\n",
       "      <th>pass</th>\n",
       "    </tr>\n",
       "  </thead>\n",
       "  <tbody>\n",
       "    <tr>\n",
       "      <th>1549869</th>\n",
       "      <td>0</td>\n",
       "      <td>1</td>\n",
       "      <td>1</td>\n",
       "      <td>2</td>\n",
       "      <td>1</td>\n",
       "    </tr>\n",
       "    <tr>\n",
       "      <th>1524693</th>\n",
       "      <td>1</td>\n",
       "      <td>1</td>\n",
       "      <td>2</td>\n",
       "      <td>2</td>\n",
       "      <td>1</td>\n",
       "    </tr>\n",
       "    <tr>\n",
       "      <th>2017453</th>\n",
       "      <td>1</td>\n",
       "      <td>3</td>\n",
       "      <td>1</td>\n",
       "      <td>2</td>\n",
       "      <td>2</td>\n",
       "    </tr>\n",
       "    <tr>\n",
       "      <th>1670807</th>\n",
       "      <td>1</td>\n",
       "      <td>4</td>\n",
       "      <td>4</td>\n",
       "      <td>3</td>\n",
       "      <td>1</td>\n",
       "    </tr>\n",
       "    <tr>\n",
       "      <th>3389132</th>\n",
       "      <td>0</td>\n",
       "      <td>3</td>\n",
       "      <td>2</td>\n",
       "      <td>2</td>\n",
       "      <td>1</td>\n",
       "    </tr>\n",
       "  </tbody>\n",
       "</table>\n",
       "</div>"
      ],
      "text/plain": [
       "         manhattan  tip  dist  speed  pass\n",
       "1549869          0    1     1      2     1\n",
       "1524693          1    1     2      2     1\n",
       "2017453          1    3     1      2     2\n",
       "1670807          1    4     4      3     1\n",
       "3389132          0    3     2      2     1"
      ]
     },
     "execution_count": 47,
     "metadata": {},
     "output_type": "execute_result"
    }
   ],
   "source": [
    "import pandas as pd\n",
    "# Generating radom data with each variable have 2 states and equal probabilities for each state\n",
    "from sklearn.cross_validation import train_test_split\n",
    "data = pd.read_csv(\"https://serv.cusp.nyu.edu/classes/ML_2016_Spring/ML_2017/NYC_taxi_sample.csv\",index_col=0)\n",
    "data.manhattan=data.manhattan-1\n",
    "train,test=train_test_split(data,random_state=999,test_size=0.2)\n",
    "train.head()"
   ]
  },
  {
   "cell_type": "markdown",
   "metadata": {
    "deletable": true,
    "editable": true
   },
   "source": [
    "### (1) Detect the structure. \n",
    "\n",
    "Why don't try some both ExhaustiveSearch and HillClimbSearch with different scoring_methods\n",
    "\n",
    "### (2) Train parameters using your learnt structure and get all independencies.\n",
    "\n",
    "### (3)Report the OS classification accuracy for \"Manhattan\" \n",
    "\n",
    "use: model.predict\n",
    "\n",
    "The code contains a bug. Change all the class from 0 not from 1. Your current values are from 1.\n",
    "\n",
    "### (4) Use PC Algorithm to detect causal direction among the features provided."
   ]
  },
  {
   "cell_type": "code",
   "execution_count": null,
   "metadata": {
    "collapsed": true,
    "deletable": true,
    "editable": true
   },
   "outputs": [],
   "source": []
  },
  {
   "cell_type": "code",
   "execution_count": null,
   "metadata": {
    "collapsed": true,
    "deletable": true,
    "editable": true
   },
   "outputs": [],
   "source": []
  },
  {
   "cell_type": "markdown",
   "metadata": {
    "deletable": true,
    "editable": true
   },
   "source": [
    "\n",
    "### References\n",
    "\n",
    "[1] Koller & Friedman, Probabilistic Graphical Models - Principles and Techniques, 2009\n",
    "\n",
    "[2] Neapolitan, [Learning Bayesian Networks](http://www.cs.technion.ac.il/~dang/books/Learning%20Bayesian%20Networks&#40;Neapolitan,%20Richard&#41;.pdf), 2003\n",
    "\n",
    "[3] Tsamardinos et al., [The max-min hill-climbing BN structure learning algorithm](http://www.dsl-lab.org/supplements/mmhc_paper/paper_online.pdf), 2005\n",
    "\n"
   ]
  }
 ],
 "metadata": {
  "kernelspec": {
   "display_name": "Python 2",
   "language": "python",
   "name": "python2"
  },
  "language_info": {
   "codemirror_mode": {
    "name": "ipython",
    "version": 2
   },
   "file_extension": ".py",
   "mimetype": "text/x-python",
   "name": "python",
   "nbconvert_exporter": "python",
   "pygments_lexer": "ipython2",
   "version": "2.7.13"
  }
 },
 "nbformat": 4,
 "nbformat_minor": 0
}
