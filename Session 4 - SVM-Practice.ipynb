{
 "cells": [
  {
   "cell_type": "markdown",
   "metadata": {
    "deletable": true,
    "editable": true
   },
   "source": [
    "# Support Vector Machines"
   ]
  },
  {
   "cell_type": "markdown",
   "metadata": {
    "deletable": true,
    "editable": true
   },
   "source": [
    "## 1. Linearly separable case"
   ]
  },
  {
   "cell_type": "markdown",
   "metadata": {
    "deletable": true,
    "editable": true
   },
   "source": [
    "## Example 1. \"Toy\" example with a streighforward solution"
   ]
  },
  {
   "cell_type": "code",
   "execution_count": 1,
   "metadata": {
    "collapsed": false,
    "deletable": true,
    "editable": true
   },
   "outputs": [],
   "source": [
    "import numpy as np\n",
    "from numpy import linalg\n",
    "%matplotlib inline\n",
    "import pandas as pd\n",
    "import matplotlib.pyplot as plt\n",
    "import seaborn as sns\n",
    "from pylab import rcParams\n",
    "rcParams['figure.figsize'] = 5, 4"
   ]
  },
  {
   "cell_type": "code",
   "execution_count": 2,
   "metadata": {
    "collapsed": false,
    "deletable": true,
    "editable": true
   },
   "outputs": [
    {
     "data": {
      "text/plain": [
       "array([ 1,  1, -1, -1])"
      ]
     },
     "execution_count": 2,
     "metadata": {},
     "output_type": "execute_result"
    }
   ],
   "source": [
    "#Generate and visualize the toy data\n",
    "X=np.array([[1,0],[0,1],[-2,0],[0,-2]])\n",
    "Y=np.array([1]*2+[-1]*2)\n",
    "Y"
   ]
  },
  {
   "cell_type": "code",
   "execution_count": 3,
   "metadata": {
    "collapsed": false,
    "deletable": true,
    "editable": true
   },
   "outputs": [
    {
     "data": {
      "text/plain": [
       "<matplotlib.collections.PathCollection at 0x1045c13d0>"
      ]
     },
     "execution_count": 3,
     "metadata": {},
     "output_type": "execute_result"
    },
    {
     "data": {
      "image/png": "[encoded data removed]",
      "text/plain": [
       "<matplotlib.figure.Figure at 0x1081f2d10>"
      ]
     },
     "metadata": {},
     "output_type": "display_data"
    }
   ],
   "source": [
    "plt.scatter(X[:, 0].T, X[:, 1].T, c = Y, s=300, cmap='spring')"
   ]
  },
  {
   "cell_type": "code",
   "execution_count": 4,
   "metadata": {
    "collapsed": false,
    "deletable": true,
    "editable": true
   },
   "outputs": [
    {
     "data": {
      "image/png": "[encoded data removed]",
      "text/plain": [
       "<matplotlib.figure.Figure at 0x1083b1810>"
      ]
     },
     "metadata": {},
     "output_type": "display_data"
    }
   ],
   "source": [
    "# Question: How to find the a hyperplane(a line) to separate the data? We could have multiple choices,\n",
    "# but which one is the best?\n",
    "plt.scatter(X[:, 0], X[:, 1], c=Y, s=300, cmap='spring')\n",
    "plt.plot([-1.5,1], [1.2,-1.5], 'k-');\n",
    "plt.plot([0.5,-.5],[-2,1], 'k-');"
   ]
  },
  {
   "cell_type": "markdown",
   "metadata": {
    "deletable": true,
    "editable": true
   },
   "source": [
    "(1) We need to find the hyperplane: $w_1 x_1+w_2 x_2+b=0$ \n",
    "\n",
    "such that:\n",
    "$$\\begin{cases} \\underset{w=(w_1,w_2),b,\\Vert w \\Vert=1}{\\text{max}} M \\\\\n",
    "y_i(x_{i}^{T}w + b)\\ge M, \\ i =1,2,3,...N\n",
    "\\end{cases}$$\n",
    "\n",
    "We divide both sides of the second equation by M (M>0), and let new $w_{new}=\\frac{w}{M}$(so,$M=\\frac{1}{\\Vert w_{new} \\Vert}$) we can get this equivalent condition for calculation convinence:\n",
    "$$\\begin{cases} \\underset{w,b}{\\text{min}} \\Vert w \\Vert^2 \\\\\n",
    "y_i(x_{i}^{T}w + b)\\ge1\n",
    "\\end{cases}$$\n",
    "\n",
    "Now let's solve those conditions by hand for our partucular case, with respect to $X=\\left[(1,0),(0,1),(-2,0),(0,-2)\\right]$ and $Y=(1,1,-1,-1)$:\n",
    "\n",
    "$$\\begin{cases} \\underset{w,b}{\\text{min}} (w_1^2+w_2^2)\\\\\n",
    "w_1+b\\ge1\\hspace{3ex}(E1.1)\\\\\n",
    "w_2+b\\ge1\\hspace{3ex}(E1.2)\\\\\n",
    "(-1)*(-2w_1+b)\\ge1\\hspace{3ex}(E1.3)\\\\\n",
    "(-1)*(-2w_2+b)\\ge1\\hspace{3ex}(E1.4)\n",
    "\\end{cases}$$\n",
    "\n",
    "(E1.1)+(E1.3)$\\Rightarrow$\n",
    "$3 w_1\\ge2$\n",
    "\n",
    "(E1.2)+(E1.4)$\\Rightarrow$\n",
    "$3 w_2\\ge2$\n",
    "\n",
    "(E1.1),(E1.3)$\\Rightarrow$\n",
    "$2 w_1-1\\ge b \\ge 1-w_1$\n",
    "\n",
    "(E1.2),(E1.3)$\\Rightarrow$\n",
    "$2 w_2-1\\ge b \\ge 1-w_2$\n",
    "\n",
    "Obviousely $(w_1^2+w_2^2)$ reaches the minimum under above conditions for the minimal possible $w_1=w_2=2/3$. Then $b=1/3$. Those values satisy (E1.1)-(E1.4) and provide the unique (up to a constant factor) definition for the separating line as $2 x_1+2 x_2+1=0$. \n",
    "\n",
    "Then the corresponding maximal value of the margin is $M=\\frac{1}{||w||}=\\frac{1}{\\sqrt{8/9}}=\\frac{3\\sqrt{2}}{4}$.\n",
    "\n",
    "Let's see the plot:"
   ]
  },
  {
   "cell_type": "code",
   "execution_count": 5,
   "metadata": {
    "collapsed": false,
    "deletable": true,
    "editable": true
   },
   "outputs": [
    {
     "data": {
      "text/plain": [
       "<matplotlib.text.Annotation at 0x10861b8d0>"
      ]
     },
     "execution_count": 5,
     "metadata": {},
     "output_type": "execute_result"
    },
    {
     "data": {
      "image/png": "[encoded data removed]",
      "text/plain": [
       "<matplotlib.figure.Figure at 0x1045c1510>"
      ]
     },
     "metadata": {},
     "output_type": "display_data"
    }
   ],
   "source": [
    "#Now let's plot the graph\n",
    "\n",
    "x1 = np.linspace(-2.5, 2.5)\n",
    "x2 = -x1-0.5 # this is the separating hyperplane we found\n",
    "M=3*np.sqrt(2)/4 #this is the M \n",
    "\n",
    "# plot the parallels to the separating hyperplane that pass through the\n",
    "\n",
    "x2_down = -x1-0.5+1.5 #1.5=M||w||=\\sqrt{2}M\n",
    "\n",
    "\n",
    "x2_up = -x1-0.5-1.5\n",
    "\n",
    "# plot the line, the points, and the nearest vectors to the plane\n",
    "plt.plot(x1, x2, 'k-')\n",
    "plt.plot(x1, x2_down, 'k--')\n",
    "plt.plot(x1, x2_up, 'k--')\n",
    "plt.axis('tight')\n",
    "plt.show\n",
    "plt.scatter(X[:, 0], X[:, 1], c=Y, cmap=plt.cm.Paired,s=100)\n",
    "plt.arrow(0, 1, -0.25, -1, fc=\"b\", ec=\"b\", head_width=0.07, head_length=0.2)\n",
    "plt.annotate(r\"$M=3\\sqrt{2}/4$\", xy=(-0.9, 0.4), fontsize=15)\n",
    "plt.arrow(0, -2, 0.27, 1, fc=\"r\", ec=\"r\", head_width=0.07, head_length=0.2);\n",
    "plt.annotate(r\"$M$\", xy=(0.2, -1.5), fontsize=15)"
   ]
  },
  {
   "cell_type": "code",
   "execution_count": 6,
   "metadata": {
    "collapsed": true,
    "deletable": true,
    "editable": true
   },
   "outputs": [],
   "source": [
    "# So in this case all the points(vectors) touch the margin and happen to be the support vectors."
   ]
  },
  {
   "cell_type": "markdown",
   "metadata": {
    "deletable": true,
    "editable": true
   },
   "source": [
    "### SVM Package.\n",
    "\n",
    "http://scikit-learn.org/stable/modules/svm.html#\n",
    "\n",
    "\n",
    "http://scikit-learn.org/stable/modules/generated/sklearn.svm.SVC.html#sklearn.svm.SVC"
   ]
  },
  {
   "cell_type": "code",
   "execution_count": 7,
   "metadata": {
    "collapsed": false,
    "deletable": true,
    "editable": true
   },
   "outputs": [
    {
     "data": {
      "text/plain": [
       "SVC(C=10000000000000000000000000000000000000000000000000000000000000000000000000000000000000000000000000000L,\n",
       "  cache_size=200, class_weight=None, coef0=0.0,\n",
       "  decision_function_shape=None, degree=3, gamma='auto', kernel='linear',\n",
       "  max_iter=-1, probability=False, random_state=None, shrinking=True,\n",
       "  tol=0.001, verbose=False)"
      ]
     },
     "execution_count": 7,
     "metadata": {},
     "output_type": "execute_result"
    }
   ],
   "source": [
    "from sklearn import svm\n",
    "# fit the model\n",
    "clf = svm.SVC(kernel='linear',C=10**100)  # as we use linear svm we specify a linear kernel \n",
    "#(see below what does it mean)\n",
    "clf.fit(X, Y)"
   ]
  },
  {
   "cell_type": "code",
   "execution_count": 8,
   "metadata": {
    "collapsed": false,
    "deletable": true,
    "editable": true
   },
   "outputs": [],
   "source": [
    "# get the separating hyperplane\n",
    "w = clf.coef_[0]\n",
    "########################################################################\n",
    "a = -w[0] / w[1]\n",
    "x1 = np.linspace(-2.5, 2.5)\n",
    "x2 = a * x1 - (clf.intercept_[0]) / w[1]\n",
    "# plot the parallels to the separating hyperplane that go through the\n",
    "# support vectors\n",
    "b = clf.support_vectors_[0]\n",
    "\n",
    "x2_down = a * x1 + (b[1] - a * b[0])\n",
    "b = clf.support_vectors_[-1]\n",
    "x2_up = a * x1 + (b[1] - a * b[0])\n",
    "\n",
    "\n"
   ]
  },
  {
   "cell_type": "code",
   "execution_count": 9,
   "metadata": {
    "collapsed": false,
    "deletable": true,
    "editable": true
   },
   "outputs": [
    {
     "data": {
      "image/png": "[encoded data removed]",
      "text/plain": [
       "<matplotlib.figure.Figure at 0x108e56c50>"
      ]
     },
     "metadata": {},
     "output_type": "display_data"
    }
   ],
   "source": [
    "\n",
    "\n",
    "# plot the line, the points, and the nearest vectors to the plane\n",
    "plt.plot(x1, x2, 'k-')\n",
    "plt.plot(x1, x2_down, 'k--')\n",
    "plt.plot(x1, x2_up, 'k--')\n",
    "\n",
    "plt.scatter(clf.support_vectors_[:, 0], clf.support_vectors_[:, 1],\n",
    "            s=200)#, facecolors='none')\n",
    "\n",
    "plt.scatter(X[:, 0], X[:, 1], c=Y, cmap=plt.cm.Paired, s=100)\n",
    "\n",
    "plt.axis('tight')\n",
    "plt.show()\n"
   ]
  },
  {
   "cell_type": "markdown",
   "metadata": {
    "deletable": true,
    "editable": true
   },
   "source": [
    "## 2. Soft Margin"
   ]
  },
  {
   "cell_type": "code",
   "execution_count": 10,
   "metadata": {
    "collapsed": false,
    "deletable": true,
    "editable": true
   },
   "outputs": [
    {
     "data": {
      "image/png": "[encoded data removed]",
      "text/plain": [
       "<matplotlib.figure.Figure at 0x1085574d0>"
      ]
     },
     "metadata": {},
     "output_type": "display_data"
    }
   ],
   "source": [
    "# Genearte data that are not fully seperatable this time.\n",
    "np.random.seed(999)\n",
    "mean1 = np.array([0, 2])\n",
    "mean2 = np.array([2, 0])\n",
    "cov = np.array([[1.8, 1.0], [1.0, 1.8]])\n",
    "X1 = np.random.multivariate_normal(mean1, cov, 100)\n",
    "y1 = np.ones(len(X1))\n",
    "X2 = np.random.multivariate_normal(mean2, cov, 100)\n",
    "y2 = np.ones(len(X2)) * -1\n",
    "\n",
    "plt.scatter(X1[:,0],X1[:,1], c='r', cmap=plt.cm.Paired)\n",
    "plt.scatter(X2[:,0],X2[:,1], c='b', cmap=plt.cm.Paired)\n",
    "\n",
    "X=np.concatenate((X1,X2),axis=0)\n",
    "Y=np.concatenate((y1,y2))\n",
    "plt.show()"
   ]
  },
  {
   "cell_type": "code",
   "execution_count": 11,
   "metadata": {
    "collapsed": false,
    "deletable": true,
    "editable": true
   },
   "outputs": [
    {
     "data": {
      "text/plain": [
       "SVC(C=1, cache_size=200, class_weight=None, coef0=0.0,\n",
       "  decision_function_shape=None, degree=3, gamma='auto', kernel='linear',\n",
       "  max_iter=-1, probability=False, random_state=None, shrinking=True,\n",
       "  tol=0.001, verbose=False)"
      ]
     },
     "execution_count": 11,
     "metadata": {},
     "output_type": "execute_result"
    }
   ],
   "source": [
    "# Obviousely, we cannot perfectly separate these two clusters with a line.\n",
    "# let's use a soft margin classifier model over the entire data with C=1.\n",
    "\n",
    "clf = svm.SVC(kernel='linear',C=1) #you can try other C and find that the model is not too sensitive to it \n",
    "#- it seems the only reasonable split is too obvious to depend on it \n",
    "\n",
    "clf.fit(X, Y)\n",
    "\n"
   ]
  },
  {
   "cell_type": "code",
   "execution_count": 12,
   "metadata": {
    "collapsed": false,
    "deletable": true,
    "editable": true
   },
   "outputs": [
    {
     "data": {
      "image/png": "[encoded data removed]",
      "text/plain": [
       "<matplotlib.figure.Figure at 0x1083a7ad0>"
      ]
     },
     "metadata": {},
     "output_type": "display_data"
    },
    {
     "name": "stdout",
     "output_type": "stream",
     "text": [
      "we successfully predict the 96.5 percent of data\n"
     ]
    }
   ],
   "source": [
    "# plot the line, the points, and the nearest vectors to the plane\n",
    "\n",
    "plt.clf()\n",
    "\n",
    "plt.scatter(clf.support_vectors_[:, 0], clf.support_vectors_[:, 1], s=100,\n",
    "            facecolors='none', zorder=10) # plot support vectors with small circle\n",
    "\n",
    "plt.scatter(X[:, 0], X[:, 1], c=Y, zorder=10, cmap=plt.cm.Paired) # plot X,Y\n",
    "###########################################################################################\n",
    "plt.axis('tight')\n",
    "x_min = -6\n",
    "x_max = 8\n",
    "y_min = -6\n",
    "y_max = 8\n",
    "\n",
    "XX, YY = np.mgrid[x_min:x_max:200j, y_min:y_max:200j] # all the points in the plane\n",
    "\n",
    "Z = clf.decision_function(np.c_[XX.ravel(), YY.ravel()]) # put them in the desion function\n",
    "\n",
    "# Put the result into a color plot\n",
    "Z = Z.reshape(XX.shape)\n",
    "\n",
    "plt.pcolormesh(XX, YY, Z > 0, cmap=plt.cm.Paired) # Make a color for all the points in plane by our decision function.\n",
    "\n",
    "plt.contour(XX, YY, Z, colors=['k', 'k', 'k'], linestyles=['--', '-', '--'],\n",
    "            levels=[-.5, 0, .5])\n",
    "plt.xlim(x_min, x_max)\n",
    "plt.ylim(y_min, y_max)\n",
    "plt.xticks(())\n",
    "plt.yticks(())\n",
    "plt.show()\n",
    "# Let's calculate the IS errors: (Just use clf.predict to compare the predicted labels with current labels)\n",
    "print \"we successfully predict the {} percent of data\".format(100-abs(clf.predict(X)-Y).sum()*50/len(Y))"
   ]
  },
  {
   "cell_type": "code",
   "execution_count": 13,
   "metadata": {
    "collapsed": false,
    "deletable": true,
    "editable": true
   },
   "outputs": [
    {
     "name": "stdout",
     "output_type": "stream",
     "text": [
      "we successfully(OS) predict the 96.9696969697 percent of data\n",
      "we successfully(OS) predict the 96.9696969697 percent of data\n",
      "we successfully(OS) predict the 93.9393939394 percent of data\n",
      "we successfully(OS) predict the 98.4848484848 percent of data\n",
      "we successfully(OS) predict the 100.0 percent of data\n",
      "we successfully(OS) predict the 93.9393939394 percent of data\n",
      "we successfully(OS) predict the 95.4545454545 percent of data\n",
      "we successfully(OS) predict the 95.4545454545 percent of data\n",
      "we successfully(OS) predict the 96.9696969697 percent of data\n",
      "we successfully(OS) predict the 93.9393939394 percent of data\n"
     ]
    },
    {
     "name": "stderr",
     "output_type": "stream",
     "text": [
      "/usr/local/lib/python2.7/site-packages/sklearn/cross_validation.py:44: DeprecationWarning: This module was deprecated in version 0.18 in favor of the model_selection module into which all the refactored classes and functions are moved. Also note that the interface of the new CV iterators are different from that of this module. This module will be removed in 0.20.\n",
      "  \"This module will be removed in 0.20.\", DeprecationWarning)\n"
     ]
    }
   ],
   "source": [
    "# Let's see the OS test\n",
    "# As usual, let's devide our data to test data and train data.\n",
    "\n",
    "from sklearn.cross_validation import train_test_split\n",
    "\n",
    "for i in range(10):\n",
    "    X_train, X_test, Y_train, Y_test = train_test_split(\n",
    "        X, Y, test_size=0.33, random_state=i) #Use random_state to fix samples\n",
    "\n",
    "    clf = svm.SVC(kernel='linear',C=1) \n",
    "    clf.fit(X_train, Y_train)\n",
    "\n",
    "    right=1.0*(clf.predict(X_test)==np.asarray(Y_test)).sum()/len(Y_test)\n",
    "\n",
    "    print \"we successfully(OS) predict the {} percent of data\".format((right)*100)"
   ]
  },
  {
   "cell_type": "markdown",
   "metadata": {
    "deletable": true,
    "editable": true
   },
   "source": [
    "## Practice One:  \n",
    "\n",
    "(1) Let C=np.exp(-10), run 10 times cross validation and report the average accuracy. \n",
    "\n",
    "(2) Optimal C tuning.\n",
    "\n",
    "a. Try C in [np.exp(i) for i in range(-5,5,100)] to find the optimal C using training set\n",
    "(You can write your own code or use the package GridSearchCV from sklearn.model_selection)\n",
    "\n",
    "b. Test your model using the testing set(Just fix your C = optimal C you found). Try this process 10 times to show the OS accuracy. "
   ]
  },
  {
   "cell_type": "code",
   "execution_count": 14,
   "metadata": {
    "collapsed": false,
    "deletable": true,
    "editable": true
   },
   "outputs": [],
   "source": [
    "#[np.exp(i) for i in np.linspace(-5,5,100)] "
   ]
  },
  {
   "cell_type": "code",
   "execution_count": 15,
   "metadata": {
    "collapsed": false,
    "deletable": true,
    "editable": true
   },
   "outputs": [
    {
     "data": {
      "text/plain": [
       "[-5, -4, -3, -2, -1, 0, 1, 2, 3, 4]"
      ]
     },
     "execution_count": 15,
     "metadata": {},
     "output_type": "execute_result"
    }
   ],
   "source": [
    "range(-5,5)"
   ]
  },
  {
   "cell_type": "code",
   "execution_count": 16,
   "metadata": {
    "collapsed": false,
    "deletable": true,
    "editable": true
   },
   "outputs": [
    {
     "data": {
      "text/plain": [
       "array([-5.        , -4.8989899 , -4.7979798 , -4.6969697 , -4.5959596 ,\n",
       "       -4.49494949, -4.39393939, -4.29292929, -4.19191919, -4.09090909,\n",
       "       -3.98989899, -3.88888889, -3.78787879, -3.68686869, -3.58585859,\n",
       "       -3.48484848, -3.38383838, -3.28282828, -3.18181818, -3.08080808,\n",
       "       -2.97979798, -2.87878788, -2.77777778, -2.67676768, -2.57575758,\n",
       "       -2.47474747, -2.37373737, -2.27272727, -2.17171717, -2.07070707,\n",
       "       -1.96969697, -1.86868687, -1.76767677, -1.66666667, -1.56565657,\n",
       "       -1.46464646, -1.36363636, -1.26262626, -1.16161616, -1.06060606,\n",
       "       -0.95959596, -0.85858586, -0.75757576, -0.65656566, -0.55555556,\n",
       "       -0.45454545, -0.35353535, -0.25252525, -0.15151515, -0.05050505,\n",
       "        0.05050505,  0.15151515,  0.25252525,  0.35353535,  0.45454545,\n",
       "        0.55555556,  0.65656566,  0.75757576,  0.85858586,  0.95959596,\n",
       "        1.06060606,  1.16161616,  1.26262626,  1.36363636,  1.46464646,\n",
       "        1.56565657,  1.66666667,  1.76767677,  1.86868687,  1.96969697,\n",
       "        2.07070707,  2.17171717,  2.27272727,  2.37373737,  2.47474747,\n",
       "        2.57575758,  2.67676768,  2.77777778,  2.87878788,  2.97979798,\n",
       "        3.08080808,  3.18181818,  3.28282828,  3.38383838,  3.48484848,\n",
       "        3.58585859,  3.68686869,  3.78787879,  3.88888889,  3.98989899,\n",
       "        4.09090909,  4.19191919,  4.29292929,  4.39393939,  4.49494949,\n",
       "        4.5959596 ,  4.6969697 ,  4.7979798 ,  4.8989899 ,  5.        ])"
      ]
     },
     "execution_count": 16,
     "metadata": {},
     "output_type": "execute_result"
    }
   ],
   "source": [
    "np.linspace(-5,5,100)"
   ]
  },
  {
   "cell_type": "code",
   "execution_count": 17,
   "metadata": {
    "collapsed": false,
    "deletable": true,
    "editable": true
   },
   "outputs": [
    {
     "name": "stdout",
     "output_type": "stream",
     "text": [
      "we successfully(OS) predict the 45.4545454545 percent of data\n"
     ]
    }
   ],
   "source": [
    "X_train, X_test, Y_train, Y_test = train_test_split(\n",
    "    X, Y, test_size=0.33, random_state=10) #Use random_state to fix samples\n",
    "\n",
    "clf = svm.SVC(kernel='linear',C=np.exp(-10)) \n",
    "clf.fit(X_train, Y_train)\n",
    "\n",
    "right=1.0*(clf.predict(X_test)==np.asarray(Y_test)).sum()/len(Y_test)\n",
    "\n",
    "print \"we successfully(OS) predict the {} percent of data\".format((right)*100)"
   ]
  },
  {
   "cell_type": "code",
   "execution_count": null,
   "metadata": {
    "collapsed": true,
    "deletable": true,
    "editable": true
   },
   "outputs": [],
   "source": []
  },
  {
   "cell_type": "code",
   "execution_count": null,
   "metadata": {
    "collapsed": true,
    "deletable": true,
    "editable": true
   },
   "outputs": [],
   "source": []
  },
  {
   "cell_type": "code",
   "execution_count": null,
   "metadata": {
    "collapsed": true,
    "deletable": true,
    "editable": true
   },
   "outputs": [],
   "source": []
  },
  {
   "cell_type": "code",
   "execution_count": null,
   "metadata": {
    "collapsed": true,
    "deletable": true,
    "editable": true
   },
   "outputs": [],
   "source": []
  },
  {
   "cell_type": "code",
   "execution_count": null,
   "metadata": {
    "collapsed": true,
    "deletable": true,
    "editable": true
   },
   "outputs": [],
   "source": []
  },
  {
   "cell_type": "code",
   "execution_count": null,
   "metadata": {
    "collapsed": true,
    "deletable": true,
    "editable": true
   },
   "outputs": [],
   "source": []
  },
  {
   "cell_type": "code",
   "execution_count": 18,
   "metadata": {
    "collapsed": false,
    "deletable": true,
    "editable": true
   },
   "outputs": [
    {
     "name": "stdout",
     "output_type": "stream",
     "text": [
      "SVC(C=0.12609659097093989, cache_size=200, class_weight=None, coef0=0.0,\n",
      "  decision_function_shape=None, degree=3, gamma='auto', kernel='linear',\n",
      "  max_iter=-1, probability=False, random_state=None, shrinking=True,\n",
      "  tol=0.001, verbose=False)\n",
      "we successfully(OS) predict the 98.4848484848 percent of data\n",
      "SVC(C=0.0082463896056373075, cache_size=200, class_weight=None, coef0=0.0,\n",
      "  decision_function_shape=None, degree=3, gamma='auto', kernel='linear',\n",
      "  max_iter=-1, probability=False, random_state=None, shrinking=True,\n",
      "  tol=0.001, verbose=False)\n",
      "we successfully(OS) predict the 93.9393939394 percent of data\n",
      "SVC(C=0.23115970015934426, cache_size=200, class_weight=None, coef0=0.0,\n",
      "  decision_function_shape=None, degree=3, gamma='auto', kernel='linear',\n",
      "  max_iter=-1, probability=False, random_state=None, shrinking=True,\n",
      "  tol=0.001, verbose=False)\n",
      "we successfully(OS) predict the 92.4242424242 percent of data\n",
      "SVC(C=0.42376091666167592, cache_size=200, class_weight=None, coef0=0.0,\n",
      "  decision_function_shape=None, degree=3, gamma='auto', kernel='linear',\n",
      "  max_iter=-1, probability=False, random_state=None, shrinking=True,\n",
      "  tol=0.001, verbose=False)\n",
      "we successfully(OS) predict the 98.4848484848 percent of data\n",
      "SVC(C=0.068785130987503482, cache_size=200, class_weight=None, coef0=0.0,\n",
      "  decision_function_shape=None, degree=3, gamma='auto', kernel='linear',\n",
      "  max_iter=-1, probability=False, random_state=None, shrinking=True,\n",
      "  tol=0.001, verbose=False)\n",
      "we successfully(OS) predict the 100.0 percent of data\n",
      "SVC(C=5.8572298365227766, cache_size=200, class_weight=None, coef0=0.0,\n",
      "  decision_function_shape=None, degree=3, gamma='auto', kernel='linear',\n",
      "  max_iter=-1, probability=False, random_state=None, shrinking=True,\n",
      "  tol=0.001, verbose=False)\n",
      "we successfully(OS) predict the 92.4242424242 percent of data\n",
      "SVC(C=0.57375342073743296, cache_size=200, class_weight=None, coef0=0.0,\n",
      "  decision_function_shape=None, degree=3, gamma='auto', kernel='linear',\n",
      "  max_iter=-1, probability=False, random_state=None, shrinking=True,\n",
      "  tol=0.001, verbose=False)\n",
      "we successfully(OS) predict the 93.9393939394 percent of data\n",
      "SVC(C=0.34624590072707134, cache_size=200, class_weight=None, coef0=0.0,\n",
      "  decision_function_shape=None, degree=3, gamma='auto', kernel='linear',\n",
      "  max_iter=-1, probability=False, random_state=None, shrinking=True,\n",
      "  tol=0.001, verbose=False)\n",
      "we successfully(OS) predict the 95.4545454545 percent of data\n",
      "SVC(C=6.479782005597869, cache_size=200, class_weight=None, coef0=0.0,\n",
      "  decision_function_shape=None, degree=3, gamma='auto', kernel='linear',\n",
      "  max_iter=-1, probability=False, random_state=None, shrinking=True,\n",
      "  tol=0.001, verbose=False)\n",
      "we successfully(OS) predict the 98.4848484848 percent of data\n",
      "SVC(C=0.05620284622522774, cache_size=200, class_weight=None, coef0=0.0,\n",
      "  decision_function_shape=None, degree=3, gamma='auto', kernel='linear',\n",
      "  max_iter=-1, probability=False, random_state=None, shrinking=True,\n",
      "  tol=0.001, verbose=False)\n",
      "we successfully(OS) predict the 92.4242424242 percent of data\n"
     ]
    }
   ],
   "source": [
    "from sklearn.model_selection import GridSearchCV\n",
    "param_grid ={'kernel':[\"linear\"],\n",
    "            'C':[np.exp(i) for i in np.linspace(-5,5,100)]}\n",
    "################################################\n",
    "################################################\n",
    "\n",
    "for i in range(10):\n",
    "    X_train, X_test, Y_train, Y_test = train_test_split(\n",
    "        X, Y, test_size=0.33, random_state=i) #Use random_state to fix samples\n",
    "\n",
    "    rr=svm.SVC()\n",
    "    gr=GridSearchCV(rr,param_grid=param_grid)\n",
    "    rs=gr.fit(X_train,Y_train)\n",
    "    print rs.best_estimator_\n",
    "\n",
    "    right=1.0*(rs.predict(X_test)==np.asarray(Y_test)).sum()/len(Y_test)\n",
    "\n",
    "    print \"we successfully(OS) predict the {} percent of data\".format((right)*100)"
   ]
  },
  {
   "cell_type": "markdown",
   "metadata": {
    "collapsed": true,
    "deletable": true,
    "editable": true
   },
   "source": [
    "#### Let's use cross-validation to pick C and see the OS result."
   ]
  },
  {
   "cell_type": "code",
   "execution_count": 19,
   "metadata": {
    "collapsed": false,
    "deletable": true,
    "editable": true
   },
   "outputs": [
    {
     "name": "stderr",
     "output_type": "stream",
     "text": [
      "/usr/local/lib/python2.7/site-packages/matplotlib/axes/_axes.py:545: UserWarning: No labelled objects found. Use label='...' kwarg on individual plots.\n",
      "  warnings.warn(\"No labelled objects found. \"\n"
     ]
    },
    {
     "data": {
      "image/png": "[encoded data removed]",
      "text/plain": [
       "<matplotlib.figure.Figure at 0x108f2d790>"
      ]
     },
     "metadata": {},
     "output_type": "display_data"
    },
    {
     "name": "stdout",
     "output_type": "stream",
     "text": [
      "The optimal C we found is:12.2847813049 and the corresponding accuracy is:1.0\n"
     ]
    }
   ],
   "source": [
    "#Let's do cross validation for choosing C since we see the result is not\n",
    "#very good.\n",
    "import pylab\n",
    "import math\n",
    "# Let's devide the training set into training set and validation set.\n",
    "X_train_1,X_vali,Y_train_1,Y_vali = train_test_split(\n",
    "    X_train, Y_train, test_size=0.33, random_state=70)\n",
    "#When C is very small, which means we want to tolerate more mistakes. If C is very big, this\n",
    "#means we hardly tolerate any mistakes. So, we cannot make a very big C if our data is not\n",
    "#really seperable. Let's however choose from a broad range of reasonable options\n",
    "C = np.linspace(-10,10,300)\n",
    "C=[np.exp(i) for i in C]\n",
    "OS_validation=[]\n",
    "for c in C:\n",
    "    clf = svm.SVC(kernel='linear',C=c) \n",
    "    clf.fit(X_train_1, Y_train_1)\n",
    "    right=1.0*(clf.predict(X_vali)==np.asarray(Y_vali)).sum()/len(Y_vali)\n",
    "    OS_validation.append(right)\n",
    "temp=pd.DataFrame([C,OS_validation]).T\n",
    "ind=len(temp.loc[temp.iloc[:,1]==temp.iloc[:,1].max()])/2 # Let's take the middle one for safty\n",
    "C_opt=temp.loc[temp.iloc[:,1]==temp.iloc[:,1].max()].iloc[ind,0]\n",
    "\n",
    "C=[math.log(y,10) for y in C] #for a better graph\n",
    "pylab.plot(C,OS_validation,'b',)\n",
    "pylab.legend(loc='upper right')\n",
    "pylab.ylabel('Accuracy')\n",
    "pylab.xlabel('log(C)')\n",
    "pylab.show()\n",
    "\n",
    "print(\"The optimal C we found is:{} and the corresponding accuracy is:{}\".format(C_opt,temp.iloc[:,1].max())) \n",
    "# I choose the biggest one.\n"
   ]
  },
  {
   "cell_type": "code",
   "execution_count": 20,
   "metadata": {
    "collapsed": false,
    "deletable": true,
    "editable": true
   },
   "outputs": [
    {
     "name": "stdout",
     "output_type": "stream",
     "text": [
      "we successfully(OS) predict the 96.9696969697 percent of data\n",
      "we successfully(OS) predict the 96.9696969697 percent of data\n",
      "we successfully(OS) predict the 93.9393939394 percent of data\n",
      "we successfully(OS) predict the 96.9696969697 percent of data\n",
      "we successfully(OS) predict the 100.0 percent of data\n",
      "we successfully(OS) predict the 93.9393939394 percent of data\n",
      "we successfully(OS) predict the 93.9393939394 percent of data\n",
      "we successfully(OS) predict the 95.4545454545 percent of data\n",
      "we successfully(OS) predict the 98.4848484848 percent of data\n",
      "we successfully(OS) predict the 93.9393939394 percent of data\n"
     ]
    }
   ],
   "source": [
    "for i in range(10):\n",
    "    X_train, X_test, Y_train, Y_test = train_test_split(\n",
    "        X, Y, test_size=0.33, random_state=i) #Use random_state to fix samples\n",
    "\n",
    "    clf = svm.SVC(kernel='linear',C=C_opt) \n",
    "    clf.fit(X_train, Y_train)\n",
    "\n",
    "    right=1.0*(clf.predict(X_test)==np.asarray(Y_test)).sum()/len(Y_test)\n",
    "\n",
    "    print \"we successfully(OS) predict the {} percent of data\".format((right)*100)"
   ]
  },
  {
   "cell_type": "markdown",
   "metadata": {
    "deletable": true,
    "editable": true
   },
   "source": [
    "## 3. Non-linearly separable case: kernels"
   ]
  },
  {
   "cell_type": "markdown",
   "metadata": {
    "deletable": true,
    "editable": true
   },
   "source": [
    "## Example 3. Using Kernels (Gausian)"
   ]
  },
  {
   "cell_type": "code",
   "execution_count": 21,
   "metadata": {
    "collapsed": false,
    "deletable": true,
    "editable": true
   },
   "outputs": [
    {
     "data": {
      "text/plain": [
       "<matplotlib.collections.PathCollection at 0x108f5ea50>"
      ]
     },
     "execution_count": 21,
     "metadata": {},
     "output_type": "execute_result"
    },
    {
     "data": {
      "image/png": "[encoded data removed]",
      "text/plain": [
       "<matplotlib.figure.Figure at 0x108f370d0>"
      ]
     },
     "metadata": {},
     "output_type": "display_data"
    }
   ],
   "source": [
    "# Let's see this data we could use Guassian kernel SVM\n",
    "from sklearn.datasets.samples_generator import make_circles\n",
    "X, Y = make_circles(500, factor=.1, noise=.1,random_state=999)\n",
    "\n",
    "plt.scatter(X[:, 0], X[:, 1], c=Y, s=50, cmap='spring')"
   ]
  },
  {
   "cell_type": "code",
   "execution_count": 22,
   "metadata": {
    "collapsed": false,
    "deletable": true,
    "editable": true
   },
   "outputs": [
    {
     "data": {
      "image/png": "[encoded data removed]",
      "text/plain": [
       "<matplotlib.figure.Figure at 0x108f15f10>"
      ]
     },
     "metadata": {},
     "output_type": "display_data"
    },
    {
     "name": "stdout",
     "output_type": "stream",
     "text": [
      "we successfully(IS) predict the 68.0 percent of data\n"
     ]
    }
   ],
   "source": [
    "# Let's have a quick look of linear SVM\n",
    "clf = svm.SVC(kernel='linear',C=1) \n",
    "clf.fit(X, Y)\n",
    "\n",
    "# plot the line, the points, and the nearest vectors to the plane\n",
    "\n",
    "plt.clf()\n",
    "\n",
    "plt.scatter(clf.support_vectors_[:, 0], clf.support_vectors_[:, 1], s=100,\n",
    "            facecolors='none', zorder=10) # plot support vectors with small circle\n",
    "\n",
    "plt.scatter(X[:, 0], X[:, 1], c=Y, zorder=10, cmap=plt.cm.Paired) # plot X,Y\n",
    "\n",
    "plt.axis('tight')\n",
    "x_min = -1.5\n",
    "x_max = 1.5\n",
    "y_min = -1.5\n",
    "y_max = 1.5\n",
    "\n",
    "XX, YY = np.mgrid[x_min:x_max:200j, y_min:y_max:200j] # all the points in the plane\n",
    "Z = clf.decision_function(np.c_[XX.ravel(), YY.ravel()]) # put them in the desion function\n",
    "\n",
    "# Put the result into a color plot\n",
    "Z = Z.reshape(XX.shape)\n",
    "\n",
    "plt.pcolormesh(XX, YY, Z > 0, cmap=plt.cm.Paired) # Make a color for all the points in plane by our decision function.\n",
    "\n",
    "plt.contour(XX, YY, Z, colors=['k', 'k', 'k'], linestyles=['--', '-', '--'],\n",
    "            levels=[-.5, 0, .5])\n",
    "plt.xlim(x_min, x_max)\n",
    "plt.ylim(y_min, y_max)\n",
    "plt.xticks(())\n",
    "plt.yticks(())\n",
    "plt.show()\n",
    "# Let's calculate the IS mistakes: (Just use clf.predic to compare the predicted labels with current labels)\n",
    "print \"we successfully(IS) predict the {} percent of data\".format(1.0*(clf.predict(X)==Y).sum()/len(Y)*100)"
   ]
  },
  {
   "cell_type": "code",
   "execution_count": 23,
   "metadata": {
    "collapsed": false,
    "deletable": true,
    "editable": true
   },
   "outputs": [
    {
     "data": {
      "image/png": "[encoded data removed]",
      "text/plain": [
       "<matplotlib.figure.Figure at 0x109441590>"
      ]
     },
     "metadata": {},
     "output_type": "display_data"
    },
    {
     "name": "stdout",
     "output_type": "stream",
     "text": [
      "we successfully(IS) predict the 100.0 percent of data\n"
     ]
    }
   ],
   "source": [
    "#Gussian Kernal SVM\n",
    "clf = svm.SVC(kernel='rbf',gamma=1) \n",
    "\n",
    "clf.fit(X, Y)\n",
    "\n",
    "# plot the line, the points, and the nearest vectors to the plane\n",
    "\n",
    "plt.clf()\n",
    "\n",
    "plt.scatter(clf.support_vectors_[:, 0], clf.support_vectors_[:, 1], s=100,\n",
    "            facecolors='none', zorder=10) # plot support vectors with small circle\n",
    "\n",
    "plt.scatter(X[:, 0], X[:, 1], c=Y, zorder=10, cmap=plt.cm.Paired) # plot X,Y\n",
    "\n",
    "\n",
    "\n",
    "#####################################################################################\n",
    "plt.axis('tight')\n",
    "x_min = -1.5\n",
    "x_max = 1.5\n",
    "y_min = -1.5\n",
    "y_max = 1.5\n",
    "\n",
    "XX, YY = np.mgrid[x_min:x_max:200j, y_min:y_max:200j] # all the points in the plane\n",
    "Z = clf.decision_function(np.c_[XX.ravel(), YY.ravel()]) # put them in the desion function\n",
    "\n",
    "# Put the result into a color plot\n",
    "Z = Z.reshape(XX.shape)\n",
    "\n",
    "plt.pcolormesh(XX, YY, Z > 0, cmap=plt.cm.Paired) # Make a color for all the points in plane by our decision function.\n",
    "\n",
    "plt.contour(XX, YY, Z, colors=['k', 'k', 'k'], linestyles=['--', '-', '--'],\n",
    "            levels=[-.5, 0, .5])\n",
    "plt.xlim(x_min, x_max)\n",
    "plt.ylim(y_min, y_max)\n",
    "plt.xticks(())\n",
    "plt.yticks(())\n",
    "plt.show()\n",
    "# Let's calculate the IS mistakes: (Just use clf.predic to compare the predicted labels with current labels)\n",
    "print \"we successfully(IS) predict the {} percent of data\".format(100.0*(clf.predict(X)==Y).sum()/len(Y))"
   ]
  },
  {
   "cell_type": "markdown",
   "metadata": {
    "deletable": true,
    "editable": true
   },
   "source": [
    "## Example 4. Polynomial kernal example"
   ]
  },
  {
   "cell_type": "code",
   "execution_count": 24,
   "metadata": {
    "collapsed": false,
    "deletable": true,
    "editable": true
   },
   "outputs": [
    {
     "data": {
      "text/plain": [
       "<matplotlib.collections.PathCollection at 0x108f1e250>"
      ]
     },
     "execution_count": 24,
     "metadata": {},
     "output_type": "execute_result"
    },
    {
     "data": {
      "image/png": "[encoded data removed]",
      "text/plain": [
       "<matplotlib.figure.Figure at 0x109422050>"
      ]
     },
     "metadata": {},
     "output_type": "display_data"
    }
   ],
   "source": [
    "#generate data\n",
    "np.random.seed(0)\n",
    "X = np.random.randn(500, 2)\n",
    "Y = np.logical_xor(X[:, 0] > 0, X[:, 1] > 0)*1\n",
    "plt.scatter(X[:, 0], X[:, 1], c=Y, s=50, cmap='spring')"
   ]
  },
  {
   "cell_type": "code",
   "execution_count": 25,
   "metadata": {
    "collapsed": false,
    "deletable": true,
    "editable": true
   },
   "outputs": [
    {
     "name": "stdout",
     "output_type": "stream",
     "text": [
      "we successfully predict the 52 percent of data\n",
      "this result means that we cannot get any useful information. So we should consider non-linear ones\n"
     ]
    }
   ],
   "source": [
    "# Obviousely, linear model won't work\n",
    "\n",
    "# let's try a soft margin classifier model on the entire data with C=1. \n",
    "# You can try other C as well, but the visual intuition hints that it won't help much\n",
    "\n",
    "clf = svm.SVC(kernel='linear',C=1) \n",
    "\n",
    "clf.fit(X, Y)\n",
    "\n",
    "print \"we successfully predict the {} percent of data\".format((clf.predict(X)==Y).sum()*100/len(Y))\n",
    "print \"this result means that we cannot get any useful information. So we should consider non-linear ones\""
   ]
  },
  {
   "cell_type": "code",
   "execution_count": 26,
   "metadata": {
    "collapsed": false,
    "deletable": true,
    "editable": true
   },
   "outputs": [
    {
     "data": {
      "image/png": "[encoded data removed]",
      "text/plain": [
       "<matplotlib.figure.Figure at 0x10847edd0>"
      ]
     },
     "metadata": {},
     "output_type": "display_data"
    },
    {
     "name": "stdout",
     "output_type": "stream",
     "text": [
      "we successfully predict(IS) the 95 percent of data\n"
     ]
    }
   ],
   "source": [
    "# Now let's use polynomial kernal with degree 2 \n",
    "clf = svm.SVC(kernel='poly',degree=2) \n",
    "clf.fit(X, Y)\n",
    "\n",
    "# plot the line, the points, and the nearest vectors to the plane\n",
    "\n",
    "plt.clf()\n",
    "\n",
    "plt.scatter(clf.support_vectors_[:, 0], clf.support_vectors_[:, 1], s=80,\n",
    "            facecolors='none', zorder=10)\n",
    "plt.scatter(X[:, 0], X[:, 1], c=Y, zorder=10, cmap=plt.cm.Paired)\n",
    "\n",
    "\n",
    "################################################################################\n",
    "plt.axis('tight')\n",
    "x_min = -3\n",
    "x_max = 3\n",
    "y_min = -3\n",
    "y_max = 3\n",
    "\n",
    "XX, YY = np.mgrid[x_min:x_max:200j, y_min:y_max:200j]\n",
    "Z = clf.decision_function(np.c_[XX.ravel(), YY.ravel()])\n",
    "\n",
    "# Put the result into a color plot\n",
    "Z = Z.reshape(XX.shape)\n",
    "\n",
    "#plt.pcolormesh(XX, YY, Z > 0, cmap=plt.cm.Paired)\n",
    "plt.contour(XX, YY, Z, colors=['k', 'k', 'k'], linestyles=['--', '-', '--'],\n",
    "            levels=[-.5, 0, .5])\n",
    "\n",
    "plt.xlim(x_min, x_max)\n",
    "plt.ylim(y_min, y_max)\n",
    "\n",
    "plt.xticks(())\n",
    "plt.yticks(())\n",
    "plt.show()\n",
    "print \"we successfully predict(IS) the {} percent of data\".format((Y==clf.predict(X)).sum()*100/len(Y))"
   ]
  },
  {
   "cell_type": "code",
   "execution_count": 27,
   "metadata": {
    "collapsed": false,
    "deletable": true,
    "editable": true
   },
   "outputs": [
    {
     "name": "stdout",
     "output_type": "stream",
     "text": [
      "we successfully(OS) predict the 99.3939393939 percent of data\n",
      "we successfully(OS) predict the 97.5757575758 percent of data\n",
      "we successfully(OS) predict the 92.7272727273 percent of data\n",
      "we successfully(OS) predict the 95.1515151515 percent of data\n",
      "we successfully(OS) predict the 95.1515151515 percent of data\n",
      "we successfully(OS) predict the 92.7272727273 percent of data\n",
      "we successfully(OS) predict the 91.5151515152 percent of data\n",
      "we successfully(OS) predict the 95.1515151515 percent of data\n",
      "we successfully(OS) predict the 96.9696969697 percent of data\n",
      "we successfully(OS) predict the 93.3333333333 percent of data\n"
     ]
    }
   ],
   "source": [
    "#OS test\n",
    "# As usual, let's divide our data to test data and train data.\n",
    "from sklearn.cross_validation import train_test_split\n",
    "for i in range(10):\n",
    "    X_train, X_test, Y_train, Y_test = train_test_split(\n",
    "        X, Y, test_size=0.33, random_state=i) #Use random_state to fix samples\n",
    "\n",
    "    clf = svm.SVC(kernel='poly',degree=2) \n",
    "    clf.fit(X_train, Y_train)\n",
    "\n",
    "    correct=1.0*(clf.predict(X_test)==Y_test).sum()/len(Y_test)\n",
    "\n",
    "    print \"we successfully(OS) predict the {} percent of data\".format((correct)*100)\n"
   ]
  },
  {
   "cell_type": "markdown",
   "metadata": {
    "deletable": true,
    "editable": true
   },
   "source": [
    "## Classification of individual/commercial houses"
   ]
  },
  {
   "cell_type": "code",
   "execution_count": 28,
   "metadata": {
    "collapsed": false,
    "deletable": true,
    "editable": true
   },
   "outputs": [
    {
     "data": {
      "text/html": [
       "<div>\n",
       "<table border=\"1\" class=\"dataframe\">\n",
       "  <thead>\n",
       "    <tr style=\"text-align: right;\">\n",
       "      <th></th>\n",
       "      <th>index</th>\n",
       "      <th>area</th>\n",
       "      <th>land</th>\n",
       "      <th>year</th>\n",
       "      <th>price</th>\n",
       "      <th>bldtype</th>\n",
       "    </tr>\n",
       "  </thead>\n",
       "  <tbody>\n",
       "    <tr>\n",
       "      <th>0</th>\n",
       "      <td>1</td>\n",
       "      <td>2607</td>\n",
       "      <td>1200</td>\n",
       "      <td>2010</td>\n",
       "      <td>825000.0</td>\n",
       "      <td>0</td>\n",
       "    </tr>\n",
       "    <tr>\n",
       "      <th>1</th>\n",
       "      <td>2</td>\n",
       "      <td>1950</td>\n",
       "      <td>1783</td>\n",
       "      <td>1899</td>\n",
       "      <td>1685000.0</td>\n",
       "      <td>0</td>\n",
       "    </tr>\n",
       "    <tr>\n",
       "      <th>2</th>\n",
       "      <td>3</td>\n",
       "      <td>2520</td>\n",
       "      <td>1875</td>\n",
       "      <td>1899</td>\n",
       "      <td>1100000.0</td>\n",
       "      <td>0</td>\n",
       "    </tr>\n",
       "    <tr>\n",
       "      <th>3</th>\n",
       "      <td>4</td>\n",
       "      <td>3750</td>\n",
       "      <td>3125</td>\n",
       "      <td>1931</td>\n",
       "      <td>1200000.0</td>\n",
       "      <td>1</td>\n",
       "    </tr>\n",
       "    <tr>\n",
       "      <th>4</th>\n",
       "      <td>5</td>\n",
       "      <td>7812</td>\n",
       "      <td>5021</td>\n",
       "      <td>1908</td>\n",
       "      <td>1900000.0</td>\n",
       "      <td>1</td>\n",
       "    </tr>\n",
       "  </tbody>\n",
       "</table>\n",
       "</div>"
      ],
      "text/plain": [
       "   index  area  land  year      price  bldtype\n",
       "0      1  2607  1200  2010   825000.0        0\n",
       "1      2  1950  1783  1899  1685000.0        0\n",
       "2      3  2520  1875  1899  1100000.0        0\n",
       "3      4  3750  3125  1931  1200000.0        1\n",
       "4      5  7812  5021  1908  1900000.0        1"
      ]
     },
     "execution_count": 28,
     "metadata": {},
     "output_type": "execute_result"
    }
   ],
   "source": [
    "data = pd.read_csv(\"https://serv.cusp.nyu.edu/classes/ML_2016_Spring/session4/lecture//NYC_RE_sample.csv\")\n",
    "# split sample into training and test ones\n",
    "data.columns=['index','area','land','year','price','bldtype']\n",
    "data.bldtype=data.bldtype-1\n",
    "X=data.iloc[:,1:5]\n",
    "Y=data.iloc[:,5]\n",
    "data.head()"
   ]
  },
  {
   "cell_type": "code",
   "execution_count": 29,
   "metadata": {
    "collapsed": true,
    "deletable": true,
    "editable": true
   },
   "outputs": [],
   "source": [
    "from sklearn import preprocessing # data standardization highly recommended\n",
    "X_scaled = preprocessing.scale(X)\n",
    "X=X_scaled"
   ]
  },
  {
   "cell_type": "code",
   "execution_count": 30,
   "metadata": {
    "collapsed": false,
    "deletable": true,
    "editable": true,
    "scrolled": true
   },
   "outputs": [
    {
     "data": {
      "text/html": [
       "<div>\n",
       "<table border=\"1\" class=\"dataframe\">\n",
       "  <thead>\n",
       "    <tr style=\"text-align: right;\">\n",
       "      <th></th>\n",
       "      <th>0</th>\n",
       "      <th>1</th>\n",
       "      <th>2</th>\n",
       "      <th>3</th>\n",
       "    </tr>\n",
       "  </thead>\n",
       "  <tbody>\n",
       "    <tr>\n",
       "      <th>0</th>\n",
       "      <td>-0.284829</td>\n",
       "      <td>-0.452581</td>\n",
       "      <td>2.232000</td>\n",
       "      <td>-1.171637</td>\n",
       "    </tr>\n",
       "    <tr>\n",
       "      <th>1</th>\n",
       "      <td>-0.316094</td>\n",
       "      <td>-0.361470</td>\n",
       "      <td>-0.461891</td>\n",
       "      <td>-0.664654</td>\n",
       "    </tr>\n",
       "    <tr>\n",
       "      <th>2</th>\n",
       "      <td>-0.288970</td>\n",
       "      <td>-0.347092</td>\n",
       "      <td>-0.461891</td>\n",
       "      <td>-1.009520</td>\n",
       "    </tr>\n",
       "    <tr>\n",
       "      <th>3</th>\n",
       "      <td>-0.230438</td>\n",
       "      <td>-0.151743</td>\n",
       "      <td>0.314726</td>\n",
       "      <td>-0.950568</td>\n",
       "    </tr>\n",
       "    <tr>\n",
       "      <th>4</th>\n",
       "      <td>-0.037140</td>\n",
       "      <td>0.144564</td>\n",
       "      <td>-0.243467</td>\n",
       "      <td>-0.537908</td>\n",
       "    </tr>\n",
       "  </tbody>\n",
       "</table>\n",
       "</div>"
      ],
      "text/plain": [
       "          0         1         2         3\n",
       "0 -0.284829 -0.452581  2.232000 -1.171637\n",
       "1 -0.316094 -0.361470 -0.461891 -0.664654\n",
       "2 -0.288970 -0.347092 -0.461891 -1.009520\n",
       "3 -0.230438 -0.151743  0.314726 -0.950568\n",
       "4 -0.037140  0.144564 -0.243467 -0.537908"
      ]
     },
     "execution_count": 30,
     "metadata": {},
     "output_type": "execute_result"
    }
   ],
   "source": [
    "pd.DataFrame(X_scaled).head()"
   ]
  },
  {
   "cell_type": "code",
   "execution_count": 31,
   "metadata": {
    "collapsed": false,
    "deletable": true,
    "editable": true
   },
   "outputs": [],
   "source": [
    "X_train, X_test, Y_train, Y_test = train_test_split(\n",
    "    X, Y, test_size=0.33, random_state=90) #Use random_state to fix samples"
   ]
  },
  {
   "cell_type": "markdown",
   "metadata": {
    "deletable": true,
    "editable": true
   },
   "source": [
    "#### (A) Let's have a look linear model with soft margin."
   ]
  },
  {
   "cell_type": "code",
   "execution_count": 32,
   "metadata": {
    "collapsed": false,
    "deletable": true,
    "editable": true
   },
   "outputs": [
    {
     "name": "stdout",
     "output_type": "stream",
     "text": [
      "we successfully(OS) predict the 78.125 percent of data by linear\n"
     ]
    }
   ],
   "source": [
    "#Now let's compare the result of three models\n",
    "import numpy as np\n",
    "import matplotlib.pyplot as plt\n",
    "from sklearn import svm\n",
    "\n",
    "#(1) Let's have a look linear model with a default C=1.\n",
    "clf = svm.SVC(kernel='linear',C=1)\n",
    "clf.fit(X_train, Y_train)\n",
    "correct=1.0*(clf.predict(X_test)==np.asarray(Y_test)).sum()/len(Y_test)\n",
    "print \"we successfully(OS) predict the {} percent of data by {}\".format((correct)*100,'linear')"
   ]
  },
  {
   "cell_type": "code",
   "execution_count": 33,
   "metadata": {
    "collapsed": false,
    "deletable": true,
    "editable": true
   },
   "outputs": [
    {
     "data": {
      "image/png": "[encoded data removed]",
      "text/plain": [
       "<matplotlib.figure.Figure at 0x1094fae50>"
      ]
     },
     "metadata": {},
     "output_type": "display_data"
    },
    {
     "name": "stdout",
     "output_type": "stream",
     "text": [
      "The optimal C we found is:582.51034141 w.r.t. max accuracy :0.952380952381\n"
     ]
    }
   ],
   "source": [
    "# Let's do cross validation for choosing C since we see the result is not really good.\n",
    "import pylab\n",
    "# Let's devide the training set into training set and validation set.\n",
    "X_train_1,X_vali,Y_train_1,Y_vali = train_test_split(\n",
    "    X_train, Y_train, test_size=0.33, random_state=2999)\n",
    "#When C is very small, which means we want to tolerate more mistakes. If C is very big, which \n",
    "#means we do not tolerate much mistakes - getting rid of any single mistake then is worth more than making the margin high\n",
    "C = [np.exp(i) for i in np.linspace(-8,8,50)] \n",
    "OS_validation=[]\n",
    "for c in C:\n",
    "    clf = svm.SVC(kernel='linear',C=c) \n",
    "    clf.fit(X_train_1, Y_train_1)\n",
    "    right=1.0*(clf.predict(X_vali)==np.asarray(Y_vali)).sum()/len(Y_vali) #OS score for validation set\n",
    "    OS_validation.append(right)\n",
    "    \n",
    "temp=pd.DataFrame([C,OS_validation]).T #put results together.\n",
    "ind=len(temp.loc[temp.iloc[:,1]==temp.iloc[:,1].max()])/2 # I take the middle point for points w.r.t. max accuracy\n",
    "C_opt=temp.loc[temp.iloc[:,1]==temp.iloc[:,1].max()].iloc[ind,0]\n",
    "\n",
    "C=[math.log(y,10) for y in C]# for a better graph\n",
    "\n",
    "pylab.plot(C,OS_validation,'b',)\n",
    "pylab.legend(loc='upper right')\n",
    "pylab.ylabel('Accuracy')\n",
    "pylab.xlabel('log(C)')\n",
    "pylab.show()\n",
    "\n",
    "print(\"The optimal C we found is:{} w.r.t. max accuracy :{}\".format(C_opt,temp.iloc[:,1].max())) # we choose the biggest one to stay on the safe side\n"
   ]
  },
  {
   "cell_type": "markdown",
   "metadata": {
    "deletable": true,
    "editable": true
   },
   "source": [
    "#### we choose C=C_opt and let's see the OS test."
   ]
  },
  {
   "cell_type": "code",
   "execution_count": 34,
   "metadata": {
    "collapsed": false,
    "deletable": true,
    "editable": true
   },
   "outputs": [
    {
     "name": "stdout",
     "output_type": "stream",
     "text": [
      "we successfully(OS) predict the 90.625 percent of data by using linear kernel\n"
     ]
    }
   ],
   "source": [
    "clf = svm.SVC(kernel='linear',C=C_opt)\n",
    "clf.fit(X_train, Y_train)\n",
    "correct=1.0*(clf.predict(X_test)==np.asarray(Y_test)).sum()/len(Y_test)\n",
    "print \"we successfully(OS) predict the {} percent of data by using linear kernel\".format((correct)*100)"
   ]
  },
  {
   "cell_type": "markdown",
   "metadata": {
    "deletable": true,
    "editable": true
   },
   "source": [
    "## Practice Two: Polynomial kernel\n",
    "\n",
    "1. Use the default hyper-parameters(C=1, Poly=3) to train the model using training data. Please report the OS accuracy on your testing data.\n",
    "\n",
    "2. Please use the training set to pick the optimal model from the following combinations of options: \n",
    "\n",
    "degree in range(1,7)\n",
    "\n",
    "C in 10**np.linspace(-5,10,20)\n",
    "\n",
    "coef0 in 10**np.linspace(-3,3,20)\n",
    "\n",
    "max_iter=100\n",
    "\n",
    "What is the OS Accuracy?\n",
    "\n",
    "#### Please use GridSearchCV now."
   ]
  },
  {
   "cell_type": "code",
   "execution_count": 35,
   "metadata": {
    "collapsed": false,
    "deletable": true,
    "editable": true
   },
   "outputs": [
    {
     "name": "stdout",
     "output_type": "stream",
     "text": [
      "we successfully(OS) predict the 68.75 percent of data by poly\n"
     ]
    }
   ],
   "source": [
    "#Polynomial kernel. (Default C=1,Poly=3)\n",
    "clf = svm.SVC(kernel='poly')\n",
    "clf.fit(X_train, Y_train)\n",
    "correct=1.0*(clf.predict(X_test)==np.asarray(Y_test)).sum()/len(Y_test)\n",
    "print \"we successfully(OS) predict the {} percent of data by poly\".format((correct)*100)"
   ]
  },
  {
   "cell_type": "code",
   "execution_count": 36,
   "metadata": {
    "collapsed": true,
    "deletable": true,
    "editable": true
   },
   "outputs": [],
   "source": [
    "from sklearn.model_selection import GridSearchCV"
   ]
  },
  {
   "cell_type": "code",
   "execution_count": 37,
   "metadata": {
    "collapsed": true,
    "deletable": true,
    "editable": true
   },
   "outputs": [],
   "source": [
    "max_iter=100\n",
    "dd=range(1,7)\n",
    "C=10**np.linspace(-5,10,20)\n",
    "coef0=10**np.linspace(-3,3,20)"
   ]
  },
  {
   "cell_type": "code",
   "execution_count": 38,
   "metadata": {
    "collapsed": false,
    "deletable": true,
    "editable": true
   },
   "outputs": [
    {
     "name": "stderr",
     "output_type": "stream",
     "text": [
      "/usr/local/lib/python2.7/site-packages/sklearn/svm/base.py:220: ConvergenceWarning: Solver terminated early (max_iter=100).  Consider pre-processing your data with StandardScaler or MinMaxScaler.\n",
      "  % self.max_iter, ConvergenceWarning)\n"
     ]
    }
   ],
   "source": [
    "from sklearn.model_selection import GridSearchCV\n",
    "param_grid ={'kernel':[\"poly\"],\n",
    "            'C':C,\n",
    "            'coef0':coef0,\n",
    "            'degree':dd,\n",
    "            'max_iter':[100]}\n",
    "################################################\n",
    "################################################\n",
    "\n",
    "rr=svm.SVC()\n",
    "gr=GridSearchCV(rr,param_grid=param_grid)\n",
    "rs=gr.fit(X_train,Y_train)"
   ]
  },
  {
   "cell_type": "code",
   "execution_count": 39,
   "metadata": {
    "collapsed": false,
    "deletable": true,
    "editable": true
   },
   "outputs": [
    {
     "name": "stdout",
     "output_type": "stream",
     "text": [
      "0.96875\n"
     ]
    }
   ],
   "source": [
    "print 1.0*(rs.predict(X_test)==np.asarray(Y_test)).sum()/len(Y_test)"
   ]
  },
  {
   "cell_type": "code",
   "execution_count": null,
   "metadata": {
    "collapsed": true,
    "deletable": true,
    "editable": true
   },
   "outputs": [],
   "source": []
  },
  {
   "cell_type": "markdown",
   "metadata": {
    "deletable": true,
    "editable": true
   },
   "source": [
    "## Practice Three. Repeat the practice 2 using Guassian Kernel. \n",
    "\n",
    "Please feel free to check any possible hyperparameters' combinations you would like but only use the training data. (You need to check C and gamma at least. But other hyperparameters related to training process you could also change as well)\n",
    "\n",
    "#### Competetion~\n",
    "Then please report your OS accuracy on the given testing data and let's see who get the best result. (It could depends on luck, since it is only one special split.)"
   ]
  },
  {
   "cell_type": "code",
   "execution_count": null,
   "metadata": {
    "collapsed": true,
    "deletable": true,
    "editable": true
   },
   "outputs": [],
   "source": []
  },
  {
   "cell_type": "code",
   "execution_count": null,
   "metadata": {
    "collapsed": true,
    "deletable": true,
    "editable": true
   },
   "outputs": [],
   "source": []
  },
  {
   "cell_type": "markdown",
   "metadata": {
    "collapsed": true,
    "deletable": true,
    "editable": true
   },
   "source": [
    "#### Why don't try your own kernel?  It is very convenient to customize your kernel in sklearn. \n",
    "\n",
    "SVM with custom kernel:\n",
    "http://scikit-learn.org/stable/auto_examples/svm/plot_custom_kernel.html#sphx-glr-auto-examples-svm-plot-custom-kernel-py"
   ]
  },
  {
   "cell_type": "code",
   "execution_count": null,
   "metadata": {
    "collapsed": true,
    "deletable": true,
    "editable": true
   },
   "outputs": [],
   "source": []
  },
  {
   "cell_type": "code",
   "execution_count": null,
   "metadata": {
    "collapsed": true,
    "deletable": true,
    "editable": true
   },
   "outputs": [],
   "source": []
  }
 ],
 "metadata": {
  "kernelspec": {
   "display_name": "Python 2",
   "language": "python",
   "name": "python2"
  },
  "language_info": {
   "codemirror_mode": {
    "name": "ipython",
    "version": 2
   },
   "file_extension": ".py",
   "mimetype": "text/x-python",
   "name": "python",
   "nbconvert_exporter": "python",
   "pygments_lexer": "ipython2",
   "version": "2.7.13"
  }
 },
 "nbformat": 4,
 "nbformat_minor": 0
}
